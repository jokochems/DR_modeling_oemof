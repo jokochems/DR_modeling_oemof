{
 "cells": [
  {
   "cell_type": "markdown",
   "metadata": {},
   "source": [
    "# Modelling demand response: Checks of updated oemof.solph.custom implementation for SinkDSM"
   ]
  },
  {
   "cell_type": "markdown",
   "metadata": {},
   "source": [
    "# Package Imports and plot settings\n",
    "Imports:\n",
    "* Standard imports\n",
    "* Import the different implementations for demand response components\n",
    "* Import module `plotting.py` for extracting results and visualization\n",
    "\n",
    "Plot settings:<br>\n",
    "* Register matplotlib converters.\n",
    "* Adjust matplotlib standard settings for graphs.\n",
    "* Create a directory to store graphs (if it doesn't already exist)."
   ]
  },
  {
   "cell_type": "code",
   "execution_count": null,
   "metadata": {},
   "outputs": [],
   "source": [
    "import pandas as pd\n",
    "import numpy as np\n",
    "import os\n",
    "import pprint\n",
    "from math import sqrt\n",
    "\n",
    "import matplotlib.pyplot as plt\n",
    "import matplotlib.dates as mdates\n",
    "from pandas.plotting import register_matplotlib_converters\n",
    "\n",
    "import oemof.solph as solph\n",
    "#import custom\n",
    "from oemof.solph import custom\n",
    "from oemof.network.network import Node\n",
    "\n",
    "# Import module for plotting (results handling)\n",
    "import plotting as plt_dsm"
   ]
  },
  {
   "cell_type": "code",
   "execution_count": null,
   "metadata": {},
   "outputs": [],
   "source": [
    "# Determine matplotlib settings\n",
    "register_matplotlib_converters()\n",
    "\n",
    "SMALL_SIZE = 11\n",
    "MEDIUM_SIZE = 14\n",
    "BIGGER_SIZE = 15\n",
    "\n",
    "plt.rc('font', size=SMALL_SIZE)          # controls default text sizes\n",
    "plt.rc('axes', titlesize=BIGGER_SIZE)    # fontsize of the axes title\n",
    "plt.rc('axes', labelsize=MEDIUM_SIZE)    # fontsize of the x and y labels\n",
    "plt.rc('xtick', labelsize=SMALL_SIZE)    # fontsize of the tick labels\n",
    "plt.rc('ytick', labelsize=SMALL_SIZE)    # fontsize of the tick labels\n",
    "plt.rc('legend', fontsize=SMALL_SIZE)    # legend fontsize\n",
    "plt.rc('figure', titlesize=BIGGER_SIZE)  # fontsize of the figure title"
   ]
  },
  {
   "cell_type": "code",
   "execution_count": null,
   "metadata": {},
   "outputs": [],
   "source": [
    "## base dataset\n",
    "plt_dsm.make_directory('graphics')"
   ]
  },
  {
   "cell_type": "markdown",
   "metadata": {},
   "source": [
    "# Parameter settings\n",
    "* General parameter settings for controlling the notebooks workflow\n",
    "* Special parameter settings for DSM parameterization"
   ]
  },
  {
   "cell_type": "markdown",
   "metadata": {},
   "source": [
    "## General parameter settings\n",
    "Control **workflow** of notebook:\n",
    "* *save_figs*: If True, all figures will be saved in the graphics folder.\n",
    "* *save_results*: If True, overall amounts of demand response activations will be saved to .csv files\n",
    "* *write_lp_files*: If True, .lp-Files will be written\n",
    "* *invest*: If True, investment units for DSM are modeled; if False, dispatch units\n",
    "* *force_min_invest*: If True, minimum investments in DSM will be forced\n",
    "* *add_existing_cap*: If Ture, an existing capacity of 100 MW will be given for DSM units"
   ]
  },
  {
   "cell_type": "code",
   "execution_count": null,
   "metadata": {},
   "outputs": [],
   "source": [
    "# Parameters to control overall workflow\n",
    "save_figs = False\n",
    "save_results = False\n",
    "write_lp_files = False\n",
    "invest = False\n",
    "force_min_invest = True\n",
    "add_existing_cap = True"
   ]
  },
  {
   "cell_type": "markdown",
   "metadata": {},
   "source": [
    "## DSM parameter settings\n",
    "Define major **parameters concerning demand response modelling**\n",
    "* *aproaches*: List of the approaches used for demand response modelling; the _interval_ method of the oemof SinkDSM component is named _oemof_ in the following.\n",
    "* *addition*: Boolean parameter indicating, whether or not to include an additional \"logic\" constraint into the other DSM modelling approaches that is similar to equation 10 of Zerrahn & Schill (2015)\n",
    "* *efficiency*: Consider a pontential efficiency loss for those modelling approaches which depict DSM efficiency.\n",
    "* *recovery_time*: Consider a pontential recovery time for those modelling approaches which depict it (only Zerrahn & Schill 2015).\n",
    "* *ActivateYearLimit*: Boolean variable indicating whether or not to use a limit for DSM activations per year (only applicable for Gils 2015).\n",
    "* *ActivateDayLimit*: Boolean variable indicating whether or not to use a limit for DSM activations per day resp. per rolling window (only applicable for Gils 2015).\n",
    "\n",
    "Determine **costs for demand response**:\n",
    "* *include_costs*: If True, (small) variable costs will be included.\n",
    "* *cost_dsm*: Overall variable costs for demand response which have to be splitted up to up and downwards shifts\n",
    "* *cost_dsm_up*: Costs for upwards shifts (_defaults to have of the overall costs_)\n",
    "* *cost_dsm_down*: Costs for downwards shifts (_defaults to have of the overall costs_)\n",
    "\n",
    "Introduce special control variables for controlling the **workflow**, especially for approach from DLR (Gils 2015):\n",
    "* *introduce_second_dsm_unit*: If True, a second demand response unit with the same parameterization will be introduced.\n",
    "* *few_timesteps*: If True, for the simple example the timeset will be limited to 9 timesteps in order to increase readability of the .lp-files"
   ]
  },
  {
   "cell_type": "code",
   "execution_count": null,
   "metadata": {},
   "outputs": [],
   "source": [
    "# Parameters focussing on demand response modelling\n",
    "approaches = ['oemof', 'DIW', 'DLR']\n",
    "addition = False\n",
    "efficiency = 1\n",
    "recovery_time = None\n",
    "ActivateYearLimit = False\n",
    "ActivateDayLimit = False\n",
    "\n",
    "# Determine cost consideration\n",
    "include_costs = True\n",
    "\n",
    "if include_costs:\n",
    "    cost_dsm = 0.1\n",
    "\n",
    "else:\n",
    "    cost_dsm = 0\n",
    "\n",
    "# Cost is split half on upwards and downwards shift; shedding gets high costs\n",
    "cost_dsm_up = cost_dsm/2\n",
    "cost_dsm_down_shift = cost_dsm/2\n",
    "cost_dsm_down_shed = 1000 * cost_dsm"
   ]
  },
  {
   "cell_type": "code",
   "execution_count": null,
   "metadata": {},
   "outputs": [],
   "source": [
    "# Control variables for demand response modelling\n",
    "introduce_second_dsm_unit = False\n",
    "few_timesteps = True"
   ]
  },
  {
   "cell_type": "markdown",
   "metadata": {},
   "source": [
    "# Tools for setup, results extraction and visualization of a (toy) energy system model\n",
    "For the testing, a **toy energy system** is set up including:\n",
    "- Coal PP\n",
    "- Wind PP\n",
    "- PV PP\n",
    "- DSM Sink\n",
    "- shortage\n",
    "- excess\n",
    "\n",
    "**Rules for DSM parametrization**:\n",
    "\n",
    "The following rules apply for parameters which are not part of every modelling approach:<br>\n",
    "* shift (resp. interference) times: These will be defined half of the delay time and symmetrical in the first place.\n",
    "* additional parameters: These will be defined to be not bounding in the first place.\n",
    "* optional parameters & constraints: These will be ignored in the first place.\n",
    "* additional constraints: These will also be ignored in the first place."
   ]
  },
  {
   "cell_type": "markdown",
   "metadata": {},
   "source": [
    "## Create and solve the model\n",
    "A function is defined here for setting up and solving the toy model."
   ]
  },
  {
   "cell_type": "code",
   "execution_count": null,
   "metadata": {},
   "outputs": [],
   "source": [
    "def create_model(data, datetimeindex, directory, project, approach,\n",
    "                 delay_time, shed_time, cost_dsm_up, cost_dsm_down_shift, \n",
    "                 cost_dsm_down_shed, efficiency,\n",
    "                 shed_eligibility, shift_eligibility, introduce_second_dsm_unit,\n",
    "                 **kwargs):\n",
    "    \"\"\" Function to create and solve the model. \"\"\"\n",
    "    \n",
    "    write_lp_files = kwargs.get(\"write_lp_files\", False)\n",
    "    \n",
    "    # Determine whether or not to run an investment model\n",
    "    invest = kwargs.get('invest', False)\n",
    "    \n",
    "    # Control generation units\n",
    "    include_coal = kwargs.get('include_coal', True)\n",
    "    include_gas = kwargs.get('include_gas', False)\n",
    "    nom_cap_coal = kwargs.get('nom_cap_coal', 10000)\n",
    "    nom_cap_gas = kwargs.get('nom_cap_gas', 10000)\n",
    "    nom_cap_pv = kwargs.get('nom_cap_pv', 1)\n",
    "\n",
    "\n",
    "    recovery_time_shift = kwargs.get('recovery_time_shift', None)\n",
    "    recovery_time_shed = kwargs.get('recovery_time_shed', 24)\n",
    "    shift_time = kwargs.get('shift_time', delay_time/2)  \n",
    "    addition = kwargs.get('addition', False)\n",
    "    fixes = kwargs.get('fixes', False)\n",
    "    ActivateYearLimit = kwargs.get('ActivateYearLimit', False)\n",
    "    ActivateDayLimit = kwargs.get('ActivateDayLimit', False)\n",
    "    \n",
    "    # Investment modeling\n",
    "    max_demand = kwargs.get('max_demand', None)\n",
    "    max_capacity_down = kwargs.get('max_capacity_down', None)\n",
    "    max_capacity_up = kwargs.get('max_capacity_up', None)\n",
    "    flex_share_down = kwargs.get('flex_share_down', None)\n",
    "    flex_share_up = kwargs.get('flex_share_up', None)\n",
    "    ep_costs = kwargs.get('ep_costs', 1000)\n",
    "    minimum = kwargs.get('minimum', 0)\n",
    "    maximum = kwargs.get('maximum', 200)\n",
    "    existing = kwargs.get('existing', 0)\n",
    "\n",
    "    # ----------------- Energy System ----------------------------\n",
    "    \n",
    "    # Create Energy System\n",
    "    es = solph.EnergySystem(timeindex=datetimeindex)\n",
    "                           #groupings=[type])\n",
    "    len_data = len(data.loc[datetimeindex,:])    \n",
    "    \n",
    "    Node.registry = es\n",
    "\n",
    "    # Create Buses\n",
    "    if include_coal:\n",
    "        b_coal_1 = solph.Bus(label='bus_coal_1')\n",
    "    if include_gas:\n",
    "        b_gas_1 = solph.Bus(label='bus_gas_1')\n",
    "    b_elec = solph.Bus(label='bus_elec')\n",
    "\n",
    "    # Create Sources\n",
    "    if include_coal:\n",
    "        s_coal_p1 = solph.Source(label='source_coal_p1',\n",
    "                                 outputs={\n",
    "                                    b_coal_1: solph.Flow(\n",
    "                                        nominal_value=nom_cap_coal,\n",
    "                                        variable_costs=13)}\n",
    "                                 )\n",
    "    if include_gas:\n",
    "        s_gas_p1 = solph.Source(label='source_gas_p1',\n",
    "                                 outputs={\n",
    "                                    b_gas_1: solph.Flow(\n",
    "                                        nominal_value=nom_cap_gas,\n",
    "                                        variable_costs=25)}\n",
    "                                 )        \n",
    "\n",
    "    s_wind = solph.Source(label='wind',\n",
    "                          outputs={\n",
    "                              b_elec: solph.Flow(\n",
    "                                  fix=data['wind'][datetimeindex],\n",
    "                                  nominal_value=1)}\n",
    "                          )\n",
    "\n",
    "    s_pv = solph.Source(label='pv',\n",
    "                        outputs={\n",
    "                            b_elec: solph.Flow(\n",
    "                                fix=data['pv'][datetimeindex],\n",
    "                                nominal_value=nom_cap_pv)}\n",
    "                        )\n",
    "\n",
    "    # Create Transformers\n",
    "    if include_coal:\n",
    "        cfp_1 = solph.Transformer(label='pp_coal_1',\n",
    "                                  inputs={b_coal_1: solph.Flow()},\n",
    "                                  outputs={\n",
    "                                      b_elec: solph.Flow(\n",
    "                                          variable_costs=0)},\n",
    "                                  conversion_factors={b_elec: 0.4}\n",
    "                                  )\n",
    "    if include_gas:\n",
    "        gfp_1 = solph.Transformer(label='pp_gas_1',\n",
    "                                  inputs={b_gas_1: solph.Flow()},\n",
    "                                  outputs={\n",
    "                                      b_elec: solph.Flow(\n",
    "                                          variable_costs=0)},\n",
    "                                  conversion_factors={b_elec: 0.4}\n",
    "                                  )\n",
    "    \n",
    "    # Create DSM units\n",
    "    \n",
    "    # Define kwargs that differ dependent on approach chosen   \n",
    "    if invest:\n",
    "        max_demand = None\n",
    "        max_capacity_down = None\n",
    "        max_capacity_up = None\n",
    "    else:\n",
    "        max_demand = data['demand_el'][datetimeindex].max()\n",
    "        max_capacity_down = data['Cap_do'][datetimeindex].max()\n",
    "        max_capacity_up = data['Cap_up'][datetimeindex].max()\n",
    "\n",
    "    # Define kwargs that are identical for all DSM units\n",
    "    kwargs_all = {'label': 'demand_dsm',\n",
    "                  'inputs': {b_elec: solph.Flow(variable_costs=0)},\n",
    "                  'demand': data['demand_el'][datetimeindex],\n",
    "                  'capacity_up': data['Cap_up'][datetimeindex],\n",
    "                  'capacity_down': data['Cap_do'][datetimeindex],\n",
    "                  'delay_time': delay_time,\n",
    "                  'shed_time': shed_time,\n",
    "                  'recovery_time_shift': recovery_time_shift,\n",
    "                  'recovery_time_shed': recovery_time_shed,\n",
    "                  'cost_dsm_up': cost_dsm_up,\n",
    "                  'cost_dsm_down_shift': cost_dsm_down_shift,\n",
    "                  'cost_dsm_down_shed': cost_dsm_down_shed,\n",
    "                  'efficiency': efficiency,\n",
    "                  'shed_eligibility': shed_eligibility,\n",
    "                  'shift_eligibility': shift_eligibility,\n",
    "                  'max_demand': max_demand,\n",
    "                  'max_capacity_down': max_capacity_down,\n",
    "                  'max_capacity_up': max_capacity_up,\n",
    "                  'flex_share_down': flex_share_down,\n",
    "                  'flex_share_up': flex_share_up,\n",
    "                  'shift_time': shift_time}\n",
    "    \n",
    "    # Determine recovery / max activations / cumulative shift / shed time dependent on each other\n",
    "    if recovery_time_shift is not None:\n",
    "        n_yearLimit_shift = kwargs.get('n_yearLimit_shift', \n",
    "                                       len_data // (delay_time + recovery_time_shift))\n",
    "        daily_frequency_shift = kwargs.get('daily_frequency_shift', \n",
    "                                           24 // (delay_time + recovery_time_shift))\n",
    "    else:\n",
    "        n_yearLimit_shift = kwargs.get('n_yearLimit_shift', \n",
    "                                       len_data // delay_time)\n",
    "        daily_frequency_shift = kwargs.get('daily_frequency_shift', \n",
    "                                           24 // delay_time)\n",
    "    \n",
    "    if recovery_time_shed is not None:\n",
    "        n_yearLimit_shed = kwargs.get('n_yearLimit_shed', \n",
    "                                      len_data // (shed_time + recovery_time_shed))\n",
    "    else:\n",
    "        n_yearLimit_shed = kwargs.get('n_yearLimit_shed', \n",
    "                                      len_data // shed_time)\n",
    "    \n",
    "    cumulative_shift_time = n_yearLimit_shift * shift_time\n",
    "    cumulative_shed_time = n_yearLimit_shed * shed_time\n",
    "    \n",
    "    if not daily_frequency_shift == 0:\n",
    "        t_dayLimit = kwargs.get('t_dayLimit', \n",
    "                                24 / daily_frequency_shift - 1)\n",
    "    else:\n",
    "        t_dayLimit = kwargs.get('t_dayLimit', 0) \n",
    "\n",
    "    kwargs_dict = { \n",
    "        'oemof': {'approach': approach,\n",
    "                  'shift_interval': kwargs.get('shift_interval', 24)},\n",
    "\n",
    "        'DIW': {'approach': approach},\n",
    "        \n",
    "        'DLR': {'approach': approach,\n",
    "                'ActivateYearLimit': ActivateYearLimit,\n",
    "                'ActivateDayLimit': ActivateDayLimit,\n",
    "                'n_yearLimit_shift': n_yearLimit_shift,\n",
    "                'n_yearLimit_shed': n_yearLimit_shed,\n",
    "                't_dayLimit': t_dayLimit,\n",
    "                'addition': addition,\n",
    "                'fixes': fixes},\n",
    "                  }\n",
    "    \n",
    "    # Optionally attribute half of the potential to a second identical dsm unit with a new label\n",
    "    if introduce_second_dsm_unit:\n",
    "        kwargs_all['demand'] = kwargs_all['demand']/2\n",
    "        kwargs_all['capacity_up'] = kwargs_all['capacity_up']/2\n",
    "        kwargs_all['capacity_down'] = kwargs_all['capacity_down']/2\n",
    "        \n",
    "        # Copy data and drop label as well as inputs since these cause trouble otherwise\n",
    "        kwargs_all_manipulated = kwargs_all.copy()\n",
    "        kwargs_all_manipulated.pop('label')\n",
    "        kwargs_all_manipulated.pop('inputs')\n",
    "    \n",
    "    if invest:\n",
    "        maximum_wind = data['wind'][datetimeindex].max()\n",
    "        maximum_demand = kwargs_all['demand'].max()\n",
    "        max_used_for_normalization = max(maximum_wind, maximum_demand)\n",
    "    \n",
    "    # Update some kwargs\n",
    "    # since they have been changed (i.e. normalized) for investment modeling\n",
    "    kwargs_all_invest = kwargs_all.copy()\n",
    "    if not invest:\n",
    "        kwargs_all_invest['demand'] = kwargs_all['demand'].div(kwargs_all['demand'].max())\n",
    "    else:\n",
    "        kwargs_all_invest['demand'] = kwargs_all['demand'].div(max_used_for_normalization)\n",
    "        \n",
    "    kwargs_all_invest['capacity_up'] = kwargs_all['capacity_up'].div(kwargs_all['capacity_up'].max())\n",
    "    kwargs_all_invest['capacity_down'] = kwargs_all['capacity_down'].div(kwargs_all['capacity_down'].max())\n",
    "    \n",
    "    # Actually build the units\n",
    "    if approach in [\"DIW\", \"oemof\", \"DLR\"]:\n",
    "        \n",
    "        if not invest:\n",
    "            demand_dsm = custom.SinkDSM(**kwargs_all_invest,\n",
    "                                         **kwargs_dict[approach])\n",
    "        else:\n",
    "            demand_dsm = custom.SinkDSM(**kwargs_all_invest,\n",
    "                                         **kwargs_dict[approach],\n",
    "                                         investment=solph.options.Investment(\n",
    "                                             existing=existing,\n",
    "                                             minimum=minimum,\n",
    "                                             maximum=maximum,\n",
    "                                             ep_costs=ep_costs)\n",
    "                                         )\n",
    "        \n",
    "        if introduce_second_dsm_unit:\n",
    "            demand_dsm2 = custom.SinkDSM(label=\"demand_dsm2\",\n",
    "                                          inputs={b_elec: solph.Flow(variable_costs=0)},\n",
    "                                          **kwargs_all_manipulated,\n",
    "                                          **kwargs_dict[approach])\n",
    "\n",
    "    # Backup excess / shortage\n",
    "    excess = solph.Sink(label='excess_el',\n",
    "                        inputs={b_elec: solph.Flow(variable_costs=1)}\n",
    "                        )\n",
    "\n",
    "    s_shortage_el = solph.Source(label='shortage_el',\n",
    "                                 outputs={\n",
    "                                     b_elec: solph.Flow(\n",
    "                                         variable_costs=200)}\n",
    "                                 )\n",
    "\n",
    "    # -------------------------- Create Model ----------------------\n",
    "    \n",
    "    #pprint.pprint(es.groups, width=1)\n",
    "    \n",
    "    # Create Model\n",
    "    model = solph.Model(es)\n",
    "\n",
    "    # Solve Model\n",
    "    model.solve(solver='gurobi', solve_kwargs={'tee': False})\n",
    "\n",
    "    # Write LP File\n",
    "    if write_lp_files:\n",
    "        filename = os.path.join(os.path.dirname('__file__'), directory, project +'.lp')\n",
    "        model.write(filename, io_options={'symbolic_solver_labels': True})\n",
    "\n",
    "    # Save Results\n",
    "    es.results['main'] = solph.processing.results(model)\n",
    "    es.results['meta'] = solph.processing.meta_results(model)\n",
    "    es.dump(dpath=None, filename=None)\n",
    "\n",
    "    return model"
   ]
  },
  {
   "cell_type": "markdown",
   "metadata": {},
   "source": [
    "## Extract model results and plot the model\n",
    "A function is defined here to extract results from the model and plot the model results."
   ]
  },
  {
   "cell_type": "code",
   "execution_count": null,
   "metadata": {},
   "outputs": [],
   "source": [
    "def start_model(df_data, timesteps, **kwargs):\n",
    "    \"\"\" Function to extract model results and plot the model. \"\"\"\n",
    "    \n",
    "    invest = kwargs.get('invest', False)\n",
    "    \n",
    "    approach = kwargs.get('approach', 'DIW')\n",
    "    \n",
    "    # Control plotting and processing\n",
    "    case = kwargs.get('case', 'constant')\n",
    "    param_variations = kwargs.get('param_variations', '')\n",
    "    plot = kwargs.get('plot', False)\n",
    "    figure_size = kwargs.get('figsize', (15,10))\n",
    "    show = kwargs.get('show', False)\n",
    "    save = kwargs.get('save', False),\n",
    "    write_lp_files = kwargs.get(\"write_lp_files\", False)\n",
    "    ax1_ylim = kwargs.get('ax1_ylim', [-10, 250])\n",
    "    ax2_ylim = kwargs.get('ax2_ylim', [-110, 150])\n",
    "    include_generators = kwargs.get('include_generators', False)\n",
    "    \n",
    "    # Control generation units\n",
    "    gen_dict = {'include_coal': kwargs.get('include_coal', True),\n",
    "                'include_gas': kwargs.get('include_gas', False),\n",
    "                'nom_cap_coal': kwargs.get('nom_cap_coal', 10000),\n",
    "                'nom_cap_gas': kwargs.get('nom_cap_gas', 10000),\n",
    "                'nom_cap_pv': kwargs.get('nom_cap_pv', 1)}\n",
    "    \n",
    "    # ----------------- Input Data & Timesteps ----------------------------\n",
    "\n",
    "    # Provide directory\n",
    "    project = 'demand_shift_' + approach + '_' + case + param_variations\n",
    "    directory = './'\n",
    "\n",
    "    # Data manipulation\n",
    "    data = df_data\n",
    "\n",
    "    # Timestamp\n",
    "    datetimeindex = pd.date_range(start='1/1/2013',\n",
    "                                  periods=timesteps,\n",
    "                                  freq='H')\n",
    "    \n",
    "    len_data = len(data.loc[datetimeindex,:])\n",
    "    \n",
    "    # ----------------- DSM Parameterization ----------------------------\n",
    "    \n",
    "    introduce_second_dsm_unit = kwargs.get('introduce_second_dsm_unit', False)\n",
    "    \n",
    "    # kwargs for all approaches\n",
    "    delay_time = kwargs.get('delay_time', 1)\n",
    "    shed_time = kwargs.get('shed_time', 1)\n",
    "    cost_dsm_up = kwargs.get('cost_dsm_up', 0)\n",
    "    cost_dsm_down_shift = kwargs.get('cost_dsm_down_shift', 0)\n",
    "    cost_dsm_down_shed = kwargs.get('cost_dsm_down_shed', 0)\n",
    "    efficiency = kwargs.get('efficiency', 1)\n",
    "    shed_eligibility = kwargs.get('shed_eligibility', False)\n",
    "    shift_eligibility = kwargs.get('shift_eligibility', True)\n",
    "    \n",
    "    # Investment modeling\n",
    "    max_demand = data['demand_el'][datetimeindex].max()\n",
    "    max_capacity_down = data['Cap_do'][datetimeindex].max()\n",
    "    max_capacity_up = data['Cap_up'][datetimeindex].max()\n",
    "    flex_share_down = kwargs.get('flex_share_down', None)\n",
    "    flex_share_up = kwargs.get('flex_share_up', None)\n",
    "    ep_costs = kwargs.get('ep_costs', 1000)\n",
    "    minimum = kwargs.get('minimum', 0)\n",
    "    maximum = kwargs.get('maximum', 200)\n",
    "    existing = kwargs.get('existing', 0)\n",
    "\n",
    "    if invest:\n",
    "        max_demand = None\n",
    "        max_capacity_down = None\n",
    "        max_capacity_up = None\n",
    "    \n",
    "    # kwargs that differ dependent on approach chosen\n",
    "    shift_time = kwargs.get('shift_time', delay_time/2)\n",
    "    \n",
    "    # determine recovery / max activations / cumulative shift / shed time dependent on each other\n",
    "    recovery_time_shift = kwargs.get('recovery_time_shift', None)\n",
    "    recovery_time_shed = kwargs.get('recovery_time_shed', 24)\n",
    "    \n",
    "    if recovery_time_shift is not None:\n",
    "        n_yearLimit_shift = kwargs.get('n_yearLimit_shift', \n",
    "                                       len_data // (delay_time + recovery_time_shift))\n",
    "        daily_frequency_shift = kwargs.get('daily_frequency_shift', \n",
    "                                           24 // (delay_time + recovery_time_shift))\n",
    "    else:\n",
    "        n_yearLimit_shift = kwargs.get('n_yearLimit_shift', \n",
    "                                       len_data // delay_time)\n",
    "        daily_frequency_shift = kwargs.get('daily_frequency_shift',\n",
    "                                           24 // delay_time)\n",
    "   \n",
    "    if recovery_time_shed is not None:\n",
    "        n_yearLimit_shed = kwargs.get('n_yearLimit_shed', \n",
    "                                      len_data // (shed_time + recovery_time_shed))\n",
    "    else:\n",
    "        n_yearLimit_shed = kwargs.get('n_yearLimit_shed', \n",
    "                                      len_data // shed_time)\n",
    "    \n",
    "    cumulative_shift_time = n_yearLimit_shift * shift_time\n",
    "    cumulative_shed_time = n_yearLimit_shed * shed_time\n",
    "\n",
    "    if not daily_frequency_shift == 0:\n",
    "        t_dayLimit = kwargs.get('t_dayLimit', \n",
    "                                24 / daily_frequency_shift - 1)\n",
    "    else:\n",
    "        t_dayLimit = kwargs.get('t_dayLimit', 0) \n",
    "    \n",
    "    kwargs_dict = {\n",
    "        'oemof': {'shift_interval': kwargs.get('shift_interval', None)},\n",
    "\n",
    "        'DIW': {},\n",
    "        \n",
    "        'DLR': {'shift_time': shift_time,\n",
    "                'ActivateYearLimit': kwargs.get('ActivateYearLimit', False),\n",
    "                'ActivateDayLimit': kwargs.get('ActivateDayLimit', False),\n",
    "                'n_yearLimit_shift': n_yearLimit_shift,\n",
    "                'n_yearLimit_shed': n_yearLimit_shed,\n",
    "                't_dayLimit': t_dayLimit,\n",
    "                'addition': kwargs.get('addition', False),\n",
    "                'fixes': kwargs.get('fixes', False)},            \n",
    "                  }\n",
    "    \n",
    "    # ----------------- Create & Solve Model ----------------------------\n",
    "\n",
    "    # Create model\n",
    "    model = create_model(data,\n",
    "                         datetimeindex, \n",
    "                         directory, \n",
    "                         project,\n",
    "                         approach,\n",
    "                         delay_time, \n",
    "                         shed_time,\n",
    "                         cost_dsm_up, \n",
    "                         cost_dsm_down_shift,\n",
    "                         cost_dsm_down_shed,\n",
    "                         efficiency,\n",
    "                         shed_eligibility,\n",
    "                         shift_eligibility,\n",
    "                         introduce_second_dsm_unit,\n",
    "                         recovery_time_shift=recovery_time_shift,\n",
    "                         recovery_time_shed=recovery_time_shed,\n",
    "                         invest=invest,\n",
    "                         max_demand=max_demand,\n",
    "                         max_capacity_down=max_capacity_down,\n",
    "                         max_capacity_up=max_capacity_up,\n",
    "                         flex_share_down=flex_share_down,\n",
    "                         flex_share_up=flex_share_up,\n",
    "                         existing=existing,\n",
    "                         ep_costs=ep_costs,\n",
    "                         minimum=minimum,\n",
    "                         maximum=maximum,\n",
    "                         write_lp_files=write_lp_files,\n",
    "                         **kwargs_dict[approach],\n",
    "                         **gen_dict)\n",
    "\n",
    "    # Get Results\n",
    "    es = solph.EnergySystem()\n",
    "    es.restore(dpath=None, filename=None)\n",
    "    \n",
    "    results = es.results['main']\n",
    "    meta = es.results['meta']\n",
    "    \n",
    "    # Export data\n",
    "    if invest:\n",
    "        df_gesamt, dsm_invest = plt_dsm.extract_results(model, approach, \n",
    "                                                        **gen_dict, \n",
    "                                                        invest=True,\n",
    "                                                        max_demand_inv=kwargs.get('max_demand_inv', 1),\n",
    "                                                        max_capacity_down_inv=kwargs.get('max_capacity_down_inv', 1),\n",
    "                                                        max_capacity_up_inv=kwargs.get('max_capacity_up_inv', 1))     \n",
    "    else:\n",
    "        df_gesamt = plt_dsm.extract_results(model, approach, \n",
    "                                            **gen_dict, \n",
    "                                            invest=False,\n",
    "                                            normalized=True,\n",
    "                                            max_demand=max_demand,\n",
    "                                            max_capacity_down=max_capacity_down,\n",
    "                                            max_capacity_up=max_capacity_up)\n",
    "    \n",
    "    # ----------------- Plot Results ----------------------------\n",
    "    if plot:\n",
    "        plt_dsm.plot_dsm(df_gesamt,\n",
    "                directory,\n",
    "                project,\n",
    "                **kwargs_dict[approach],\n",
    "                days=2,\n",
    "                show=show,\n",
    "                figsize=figure_size,\n",
    "                ax1_ylim=ax1_ylim,\n",
    "                ax2_ylim=ax2_ylim,\n",
    "                include_generators=include_generators,\n",
    "                approach=approach,\n",
    "                save=save)\n",
    "\n",
    "    if invest: \n",
    "        return df_gesamt, model, meta, dsm_invest\n",
    "    else:\n",
    "        return df_gesamt, model, meta"
   ]
  },
  {
   "cell_type": "markdown",
   "metadata": {},
   "source": [
    "## Plot case (availability and generation data)\n",
    "Function to visualize the case considered for the simple example model\n",
    "* Show availability, i.e. capacity bounds for DSM\n",
    "* Show demand before DSM and generation pattern as well as \"residual load\""
   ]
  },
  {
   "cell_type": "code",
   "execution_count": null,
   "metadata": {},
   "outputs": [],
   "source": [
    "def plot_case(data, case='constant', **kwargs):\n",
    "    \"\"\" Function to plot the case considered.\n",
    "    \n",
    "    Case is defined by availability time series, i.e. capacity bounds for DSM and\n",
    "    demand before DSM as well as generation pattern.\n",
    "    \"\"\"\n",
    "    show = kwargs.get('show', True)\n",
    "    save_figs = kwargs.get('save_figs', True)\n",
    "    \n",
    "    # Plot demand, wind generation and DR capacity limits\n",
    "    fig = plt.figure(figsize=(15,4))\n",
    "    ax = fig.add_subplot(111)\n",
    "\n",
    "    _ = plt.title('Generation and demand for case \"' + case + '\"')\n",
    "\n",
    "    # Define xaxis ticks\n",
    "    ax.xaxis_date()\n",
    "    ax.xaxis.set_major_formatter(mdates.DateFormatter('%d.%m - %H h'))  # ('%d.%m-%H h'))\n",
    "    ax.set_xlim(data.index.values[0] - pd.Timedelta(1, 'h'), \n",
    "                data.index.values[0] + pd.Timedelta(1, 'h'))\n",
    "    plt.xticks(pd.date_range(start=data.index.values[0], \n",
    "                             periods=len(data)+1, \n",
    "                             freq='H'), rotation=90)\n",
    "\n",
    "    ax.plot(data.index, data['demand_el'].values, drawstyle=\"steps-post\", label=\"demand\")\n",
    "    ax.plot(data.index, data['wind'].values, drawstyle=\"steps-post\", label=\"generation\")\n",
    "\n",
    "    # Cap_up and Cap_do only included for proper alignment here\n",
    "    ax.plot(data.index, (data['demand_el'] + data['Cap_up']).values, \n",
    "            drawstyle=\"steps-post\", color=\"limegreen\", label=\"upper limit\")\n",
    "    ax.plot(data.index, (data['demand_el'] - data['Cap_do']).values, \n",
    "            drawstyle=\"steps-post\", color=\"lightcoral\", label=\"lower limit\")\n",
    "    \n",
    "    _ = ax.set_yticks(range(-(data.Cap_do.max()-100), data.Cap_up.max()+125, 25))\n",
    "    ax.legend(bbox_to_anchor=(0., -0.5, 1., 0.102), loc=2, ncol=2, borderaxespad=0.)\n",
    "    _ = ax.set_xlabel(\"Time in h\")\n",
    "    _ = ax.set_ylabel(\"capacity in MW \\n(demand, generation,\\n abs. limits)\")\n",
    "\n",
    "    plt.grid(alpha=0.6)\n",
    "    \n",
    "    # Delta MW on secondary y_axis\n",
    "    ax2 = ax.twinx()\n",
    "    ax2.xaxis.set_major_formatter(mdates.DateFormatter('%d.%m - %H h'))  # ('%d.%m-%H h'))\n",
    "    ax2.set_xlim(data.index.values[0] - pd.Timedelta(1, 'h'), \n",
    "                data.index.values[-1] + pd.Timedelta(1, 'h'))\n",
    "    plt.xticks(pd.date_range(start=data.index.values[0], \n",
    "                             periods=len(data)+1, \n",
    "                             freq='H'), rotation=90)\n",
    "\n",
    "    ax2.plot(data.index, data.Cap_up.values, drawstyle=\"steps-post\", #secondary_y=True, \n",
    "             linestyle=\":\", color=\"darkgreen\", label=\"Cap_up (right axis)\")\n",
    "    ax2.plot(data.index, (data.Cap_do*-1).values, drawstyle=\"steps-post\", #secondary_y=True, \n",
    "             linestyle=\":\", color=\"saddlebrown\", label=\"Cap_do (right axis)\")\n",
    "    \n",
    "    _ = ax2.set_yticks(range(-data.Cap_do.max(), data.Cap_up.max()+50, 50))\n",
    "    ax2.legend(bbox_to_anchor=(0., -0.5, 1., 0.102), loc=1, ncol=1, borderaxespad=0.)\n",
    "    _ = ax2.set_ylabel(\"difference $\\Delta$ MW \\n(Cap_up, Cap_do)\")#\n",
    "    \n",
    "    # Do axis aligment\n",
    "    plt_dsm.align_yaxis(ax, -(data.Cap_do.max()-100), ax2, -data.Cap_do.max())\n",
    "    plt_dsm.align_yaxis(ax, data.Cap_up.max()+100, ax2, data.Cap_up.max())\n",
    "\n",
    "    if show:\n",
    "        plt.show()\n",
    "\n",
    "    if save_figs:\n",
    "        name = 'toy-model_' + case + '.png'\n",
    "        fig.savefig('./graphics/' + name)\n",
    "        plt.close()\n",
    "        print(name + \" saved.\")"
   ]
  },
  {
   "cell_type": "code",
   "execution_count": null,
   "metadata": {},
   "outputs": [],
   "source": [
    "def plot_case_residual(data, case='constant', **kwargs):\n",
    "    \"\"\" Function to plot the residual load for the respective case. \n",
    "    \n",
    "    Residual load is defined here as the difference between\n",
    "    generic generation and demand, i.e., what is actually to be balanced.\n",
    "    \"\"\"\n",
    "    show = kwargs.get('show', True)\n",
    "    save_figs = kwargs.get('save_figs', True)\n",
    "    \n",
    "    fig = plt.figure(figsize=(15,4))\n",
    "    ax = fig.add_subplot(111)\n",
    "    _ = plt.title('\"Residual load\" for case \"' + case + '\"')\n",
    "\n",
    "    ax.xaxis_date()\n",
    "    ax.xaxis.set_major_formatter(mdates.DateFormatter('%d.%m - %H h'))  # ('%d.%m-%H h'))\n",
    "    ax.set_xlim(data.index.values[0] - pd.Timedelta(1, 'h'), \n",
    "                data.index.values[0] + pd.Timedelta(1, 'h'))\n",
    "    plt.xticks(pd.date_range(start=data.index.values[0], \n",
    "                             periods=len(data)+1, \n",
    "                             freq='H'), rotation=90)\n",
    "\n",
    "    ax.plot(data.index, (data['wind'] - data['demand_el']).values, drawstyle=\"steps-post\", \n",
    "            linestyle=\"-.\", label=\"residual load\", color=\"black\")\n",
    "    _ = ax.set_yticks(range(-100,125,25))\n",
    "    plt.grid()\n",
    "    _ = ax.set_ylabel(\"MW \\n(residual load)\")\n",
    "    \n",
    "    if show:\n",
    "        plt.show()\n",
    "\n",
    "    if save_figs:\n",
    "        name = 'toy-model_' + case + '_residual.png'\n",
    "        fig.savefig('./graphics/' + name)\n",
    "        plt.close()\n",
    "        print(name + \" saved.\")"
   ]
  },
  {
   "cell_type": "markdown",
   "metadata": {},
   "source": [
    "## Create and display a results table\n",
    "Function to compare the overall results as far as amount of DSM activations, generation and shortage / excess is concerned."
   ]
  },
  {
   "cell_type": "code",
   "execution_count": null,
   "metadata": {},
   "outputs": [],
   "source": [
    "def show_results_table(approach_dict, save_results, MultiIndex=False, \n",
    "                       param_name=\"costs\", decimals=0):\n",
    "    \"\"\" Show and visualize the results from the previous model run \"\"\"\n",
    "    # Show total values for the timeframe considered\n",
    "    if not MultiIndex:\n",
    "        dsm = pd.DataFrame()\n",
    "    else:\n",
    "        dsm = pd.DataFrame(columns=pd.MultiIndex.from_tuples(approach_dict.keys()))\n",
    "        dsm.columns.rename([\"approach\", param_name], inplace=True)\n",
    "  \n",
    "    for index, df in approach_dict.items():\n",
    "        dsm[index]  = df[0].abs().sum().round(decimals=decimals)\n",
    "        dsm.loc['gen_total', index] = df[0][['wind', 'pv', 'coal1']].sum().sum().round()\n",
    "        dsm.loc['gen_generic', index] = df[0][['wind', 'pv']].sum().sum().round()\n",
    "\n",
    "    display(dsm.loc[['demand_el','dsm_tot','excess',\n",
    "                     'cap_up', 'cap_do',\n",
    "                     'gen_total','gen_generic',\n",
    "                     'wind', 'pv', 'coal1']].T.style.bar(axis=0 ,color='goldenrod'))\n",
    "\n",
    "    if save_results:\n",
    "        name = 'results_' + case + '.csv'\n",
    "        dsm.loc[['demand_el','dsm_tot','excess',\n",
    "                     'cap_up', 'cap_do',\n",
    "                     'gen_total','gen_generic',\n",
    "                     'wind', 'pv', 'coal1']].T.to_csv('./graphics/' + name, sep=';', decimal=',')\n",
    "        print(name + ' saved.')"
   ]
  },
  {
   "cell_type": "markdown",
   "metadata": {},
   "source": [
    "# Basic comparison for simple setting\n",
    "In the following, the results for the toy model considerations are depicted. This section is structured as follows:\n",
    "* At first a base data set is defined, consisting of a flat demand, a fixed generic generation and capacity limits for DSM.\n",
    "* Then, the demand and/or generic generation the above stated cases are evaluated for the DSM behaviour. The cases are:\n",
    "    * Case 1: Simple demand variation\n",
    "    * Case 2: Demand variations\n",
    "        * 2a: variations with the same amplitude each\n",
    "        * 2b: variations with a changing amplitude\n",
    "        * 2c: variations with changed starting timesteps for load shifts\n",
    "        * 2d: variations with a longer duration (shift for several subsequent hours)\n",
    "        * 2e: variations demanding for longer shift times\n",
    "    * Case 3: Increase in demand (use case for load shedding)\n",
    "    * Case 4: (asymmetric) variations in generation and constant demand\n",
    "    * Case 4: variations in demand and generation "
   ]
  },
  {
   "cell_type": "markdown",
   "metadata": {},
   "source": [
    "## Determine base data set\n",
    "* A basic data set for the toy model is defined in the following.\n",
    "* To analyze different behaviour of the modelling approaches, this data set is modified for the different cases."
   ]
  },
  {
   "cell_type": "code",
   "execution_count": null,
   "metadata": {},
   "outputs": [],
   "source": [
    "timesteps = 48\n",
    "\n",
    "# base data set\n",
    "demand = [100] * timesteps\n",
    "pv = [0] * timesteps\n",
    "capup = [100] * timesteps\n",
    "capdo = [100] * timesteps\n",
    "wind = [100] * timesteps\n",
    " \n",
    "base = [demand, wind, capup, capdo, pv]\n",
    "df_base = pd.DataFrame(list(zip(*base)))\n",
    "df_base.rename(columns={0:'demand_el',1:'wind', 2:'Cap_up', 3:'Cap_do', 4:'pv'}, inplace=True)\n",
    "df_base['timestamp'] = pd.date_range(start='1/1/2013', periods=timesteps, freq='H')\n",
    "df_base.set_index('timestamp', drop=True, inplace=True)"
   ]
  },
  {
   "cell_type": "code",
   "execution_count": null,
   "metadata": {},
   "outputs": [],
   "source": [
    "plot_case(data=df_base, case=\"base data set\")\n",
    "plot_case_residual(data=df_base, case=\"base data set\")"
   ]
  },
  {
   "cell_type": "markdown",
   "metadata": {},
   "source": [
    "## Case 1: Only one demand variation and constant generation\n",
    "Analyze one of the most simple examples. Slice only a few timesteps to get an easily readable .lp-file."
   ]
  },
  {
   "cell_type": "code",
   "execution_count": null,
   "metadata": {},
   "outputs": [],
   "source": [
    "case = 'simple'\n",
    "\n",
    "# Base data set\n",
    "df_data = df_base.copy()\n",
    "demand = [100] * timesteps\n",
    "\n",
    "# Manipulate demand\n",
    "demand[1:2] = [150]\n",
    "demand[5:6] = [50]\n",
    "\n",
    "df_data['demand_el'] = demand\n",
    "df_data['Cap_up'] = [100] * timesteps + df_data['Cap_up'] - df_data['demand_el']\n",
    "df_data['Cap_do'] = [100] * timesteps + df_data['demand_el'] - df_data['Cap_do']"
   ]
  },
  {
   "cell_type": "code",
   "execution_count": null,
   "metadata": {},
   "outputs": [],
   "source": [
    "plot_case(data=df_data, case=case)\n",
    "plot_case_residual(data=df_data, case=case)"
   ]
  },
  {
   "cell_type": "code",
   "execution_count": null,
   "metadata": {},
   "outputs": [],
   "source": [
    "# Slice the first couple of hours to obtain readable .lp files\n",
    "if few_timesteps:\n",
    "    df_data = df_data[:9]"
   ]
  },
  {
   "cell_type": "code",
   "execution_count": null,
   "metadata": {},
   "outputs": [],
   "source": [
    "minimum = 0\n",
    "existing = 0\n",
    "\n",
    "if invest:\n",
    "    flex_share_down = 1\n",
    "    flex_share_up = 1\n",
    "else:\n",
    "    flex_share_down = None\n",
    "    flex_share_up = None"
   ]
  },
  {
   "cell_type": "code",
   "execution_count": null,
   "metadata": {},
   "outputs": [],
   "source": [
    "# Introduce a dict to store the results of every approach\n",
    "approach_dict = {}\n",
    "\n",
    "if add_existing_cap:\n",
    "    existing=100\n",
    "if force_min_invest:\n",
    "    minimum = 149 - existing\n",
    "\n",
    "for approach in approaches:\n",
    "    print(f'Using approach {approach}')\n",
    "    approach_dict[approach] = start_model(df_data, timesteps=len(df_data), plot=True, save=save_figs, case=case, \n",
    "                                          shift_interval=24, delay_time=4, efficiency=1, approach=approach,\n",
    "                                          cost_dsm_up=cost_dsm_up, cost_dsm_down_shift=cost_dsm_down_shift, \n",
    "                                          cost_dsm_down_shed=cost_dsm_down_shed,\n",
    "                                          addition=True, recovery_time_shift=None, recovery_time_shed=4, \n",
    "                                          figsize=(15,8), \n",
    "                                          shed_eligibility=False, shed_time=4, n_yearLimit_shed=6,\n",
    "                                          introduce_second_dsm_unit=introduce_second_dsm_unit,\n",
    "                                          invest=invest,\n",
    "                                          flex_share_down=flex_share_down,\n",
    "                                          flex_share_up=flex_share_up,\n",
    "                                          ep_costs=0.001,\n",
    "                                          existing=existing,\n",
    "                                          minimum=minimum,\n",
    "                                          maximum=200,\n",
    "                                          max_demand_inv=df_data['demand_el'].max(),\n",
    "                                          max_capacity_down_inv=df_data['demand_el'].max(),\n",
    "                                          max_capacity_up_inv=200-df_data['demand_el'].min()\n",
    "                                         )"
   ]
  },
  {
   "cell_type": "code",
   "execution_count": null,
   "metadata": {},
   "outputs": [],
   "source": [
    "show_results_table(approach_dict, save_results)"
   ]
  },
  {
   "cell_type": "markdown",
   "metadata": {},
   "source": [
    "**Results validation / debugging**"
   ]
  },
  {
   "cell_type": "code",
   "execution_count": null,
   "metadata": {},
   "outputs": [],
   "source": [
    "results_dict = {}\n",
    "for k, v in approach_dict.items():\n",
    "    print(k)\n",
    "    display(v[2]['objective'])\n",
    "    results_dict[k] = v[2]['objective']\n",
    "    \n",
    "results_df = pd.DataFrame.from_dict(results_dict, orient='index')\n",
    "#display(results_df)"
   ]
  },
  {
   "cell_type": "code",
   "execution_count": null,
   "metadata": {},
   "outputs": [],
   "source": [
    "if invest:\n",
    "    for k, v in approach_dict.items():\n",
    "        print(f\"investment in DR for approach {k}: {v[3]} MW of installed capacity\")"
   ]
  },
  {
   "cell_type": "code",
   "execution_count": null,
   "metadata": {},
   "outputs": [],
   "source": [
    "if save_results:\n",
    "    if minimum != 0:\n",
    "        results_df.to_csv('target_vals_' + case + '_min_invest' + '.csv')\n",
    "    else:\n",
    "         results_df.to_csv('target_vals_' + case + '_no_min_invest' + '.csv')       "
   ]
  },
  {
   "cell_type": "markdown",
   "metadata": {},
   "source": [
    "## Case 2: Variation in demand and constant generation"
   ]
  },
  {
   "cell_type": "markdown",
   "metadata": {},
   "source": [
    "There are several cases in which the demand pattern is altered in order to analyze the DSM behaviour. Compared to variations in generation (which are basically interchangeable to demand variations if they happen in the opposite direction), the benefit is that deviations in demand can be easily identified in the results plots."
   ]
  },
  {
   "cell_type": "markdown",
   "metadata": {},
   "source": [
    "### Case 2a: Variations in demand (same amplitude) and constant generation\n",
    "Substitute flat demand by introducing two demand peaks and drops each per day with a constant amplitude."
   ]
  },
  {
   "cell_type": "code",
   "execution_count": null,
   "metadata": {},
   "outputs": [],
   "source": [
    "case = 'dem_variation'\n",
    "\n",
    "# Data preperation: manipulate demand data\n",
    "df_data = df_base.copy()\n",
    "demand = [100] * timesteps\n",
    "\n",
    "# demand changes\n",
    "demand[4:5] = [150]\n",
    "demand[5:6] = [50]\n",
    "\n",
    "demand[11:12] = [150]\n",
    "demand[13:14] = [50]\n",
    "\n",
    "if timesteps > 24:\n",
    "    demand[26:27] = [50]\n",
    "    demand[29:30] = [150]\n",
    "\n",
    "    demand[36:37] = [50]\n",
    "    demand[40:41] = [150]\n",
    "\n",
    "df_data['demand_el'] = demand\n",
    "df_data['Cap_up'] = [100] * timesteps + df_data['Cap_up'] - df_data['demand_el']\n",
    "df_data['Cap_do'] = [100] * timesteps + df_data['demand_el'] - df_data['Cap_do']"
   ]
  },
  {
   "cell_type": "code",
   "execution_count": null,
   "metadata": {},
   "outputs": [],
   "source": [
    "plot_case(data=df_data, case=case)\n",
    "plot_case_residual(data=df_data, case=case)"
   ]
  },
  {
   "cell_type": "code",
   "execution_count": null,
   "metadata": {},
   "outputs": [],
   "source": [
    "# Introduce a dict to store the results of every approach\n",
    "approach_dict = {}\n",
    "\n",
    "minimum = 149 - existing\n",
    "\n",
    "for approach in approaches:\n",
    "    approach_dict[approach] = start_model(df_data, timesteps=len(df_data), plot=True, save=save_figs, case=case, \n",
    "                                          shift_interval=24, delay_time=4, efficiency=1, approach=approach,\n",
    "                                          cost_dsm_up=cost_dsm_up, cost_dsm_down_shift=cost_dsm_down_shift, cost_dsm_down_shed=cost_dsm_down_shed,\n",
    "                                          addition=False, recovery_time_shift=None, recovery_time_shed=4, figsize=(15,8), \n",
    "                                          shed_eligibility=True, shed_time=4, n_yearLimit_shed=6,\n",
    "                                          introduce_second_dsm_unit=introduce_second_dsm_unit,\n",
    "                                          invest=invest,\n",
    "                                          flex_share_down=flex_share_down,\n",
    "                                          flex_share_up=flex_share_up,\n",
    "                                          ep_costs=0.001,\n",
    "                                          existing=existing,\n",
    "                                          minimum=minimum,\n",
    "                                          maximum=200,\n",
    "                                          max_demand_inv=df_data['demand_el'].max(),\n",
    "                                          max_capacity_down_inv=df_data['demand_el'].max(),\n",
    "                                          max_capacity_up_inv=200-df_data['demand_el'].min(),\n",
    "                                          ActivateYearLimit=True,\n",
    "                                          n_yearLimit_shift=1\n",
    "                                         )"
   ]
  },
  {
   "cell_type": "code",
   "execution_count": null,
   "metadata": {},
   "outputs": [],
   "source": [
    "show_results_table(approach_dict, save_results)"
   ]
  },
  {
   "cell_type": "markdown",
   "metadata": {},
   "source": [
    "**Results validation / debugging**"
   ]
  },
  {
   "cell_type": "code",
   "execution_count": null,
   "metadata": {},
   "outputs": [],
   "source": [
    "results_dict = {}\n",
    "for k, v in approach_dict.items():\n",
    "    print(f\"approach: {k}\\t objective: {v[2]['objective']}\")\n",
    "    results_dict[k] = v[2]['objective']\n",
    "    \n",
    "results_df = pd.DataFrame.from_dict(results_dict, orient='index')"
   ]
  },
  {
   "cell_type": "code",
   "execution_count": null,
   "metadata": {},
   "outputs": [],
   "source": [
    "if invest:\n",
    "    for k, v in approach_dict.items():\n",
    "        print(f\"investment in DR for approach {k}: {v[3]} MW of installed capacity\")"
   ]
  },
  {
   "cell_type": "code",
   "execution_count": null,
   "metadata": {},
   "outputs": [],
   "source": [
    "if save_results:\n",
    "    if minimum != 0:\n",
    "        results_df.to_csv('target_vals_' + case + '_min_invest' + '.csv')\n",
    "    else:\n",
    "         results_df.to_csv('target_vals_' + case + '_no_min_invest' + '.csv')       "
   ]
  },
  {
   "cell_type": "markdown",
   "metadata": {},
   "source": [
    "### Case 2b: Variations in demand (changing amplitude) and constant generation\n",
    "Substitute flat demand by introducing two demand peaks and drops each per day with a changing, i.e. increasing amplitude."
   ]
  },
  {
   "cell_type": "code",
   "execution_count": null,
   "metadata": {},
   "outputs": [],
   "source": [
    "case = 'dem_variation_amplitude'\n",
    "\n",
    "# Data preperation: manipulate demand data\n",
    "df_data = df_base.copy()\n",
    "demand = [100] * timesteps\n",
    "\n",
    "# demand changes\n",
    "demand[4:5] = [125]\n",
    "demand[5:6] = [75]\n",
    "\n",
    "demand[11:12] = [150]\n",
    "demand[13:14] = [50]\n",
    "\n",
    "if timesteps > 24:\n",
    "    demand[26:27] = [25]\n",
    "    demand[29:30] = [175]\n",
    "\n",
    "    demand[36:37] = [0]\n",
    "    demand[40:41] = [200]\n",
    "\n",
    "df_data['demand_el'] = demand\n",
    "df_data['Cap_up'] = [100] * timesteps + df_data['Cap_up'] - df_data['demand_el']\n",
    "df_data['Cap_do'] = [100] * timesteps + df_data['demand_el'] - df_data['Cap_do']"
   ]
  },
  {
   "cell_type": "code",
   "execution_count": null,
   "metadata": {},
   "outputs": [],
   "source": [
    "plot_case(data=df_data, case=case)\n",
    "plot_case_residual(data=df_data, case=case)"
   ]
  },
  {
   "cell_type": "code",
   "execution_count": null,
   "metadata": {},
   "outputs": [],
   "source": [
    "# Introduce a dict to store the results of every approach\n",
    "approach_dict = {}\n",
    "\n",
    "minimum = 149 - existing\n",
    "\n",
    "for approach in approaches:\n",
    "    approach_dict[approach] = start_model(df_data, timesteps=len(df_data), plot=True, save=save_figs, case=case, \n",
    "                                          shift_interval=24, delay_time=4, efficiency=1, approach=approach,\n",
    "                                          cost_dsm_up=cost_dsm_up, cost_dsm_down_shift=cost_dsm_down_shift, cost_dsm_down_shed=cost_dsm_down_shed,\n",
    "                                          addition=False, recovery_time_shift=None, recovery_time_shed=4, figsize=(15,8), \n",
    "                                          shed_eligibility=True, shed_time=4, n_yearLimit_shed=6,\n",
    "                                          introduce_second_dsm_unit=introduce_second_dsm_unit,\n",
    "                                          invest=invest,\n",
    "                                          flex_share_down=flex_share_down,\n",
    "                                          flex_share_up=flex_share_up,\n",
    "                                          existing=existing,\n",
    "                                          ep_costs=0.001,\n",
    "                                          minimum=minimum,\n",
    "                                          maximum=200,\n",
    "                                          max_demand_inv=df_data['demand_el'].max(),\n",
    "                                          max_capacity_down_inv=df_data['demand_el'].max(),\n",
    "                                          max_capacity_up_inv=200-df_data['demand_el'].min(),\n",
    "                                          ActivateYearLimit=True,\n",
    "                                          n_yearLimit_shift=1,\n",
    "                                         )"
   ]
  },
  {
   "cell_type": "code",
   "execution_count": null,
   "metadata": {},
   "outputs": [],
   "source": [
    "show_results_table(approach_dict, save_results)"
   ]
  },
  {
   "cell_type": "markdown",
   "metadata": {},
   "source": [
    "**Results validation / debugging**"
   ]
  },
  {
   "cell_type": "code",
   "execution_count": null,
   "metadata": {},
   "outputs": [],
   "source": [
    "results_dict = {}\n",
    "for k, v in approach_dict.items():\n",
    "    print(f\"approach: {k}\\t objective: {v[2]['objective']}\")\n",
    "    results_dict[k] = v[2]['objective']\n",
    "    \n",
    "results_df = pd.DataFrame.from_dict(results_dict, orient='index')"
   ]
  },
  {
   "cell_type": "code",
   "execution_count": null,
   "metadata": {},
   "outputs": [],
   "source": [
    "if invest:\n",
    "    for k, v in approach_dict.items():\n",
    "        print(f\"investment in DR for approach {k}: {v[3]} MW of installed capacity\")"
   ]
  },
  {
   "cell_type": "code",
   "execution_count": null,
   "metadata": {},
   "outputs": [],
   "source": [
    "if save_results:\n",
    "    if minimum != 0:\n",
    "        results_df.to_csv('target_vals_' + case + '_min_invest' + '.csv')\n",
    "    else:\n",
    "         results_df.to_csv('target_vals_' + case + '_no_min_invest' + '.csv')       "
   ]
  },
  {
   "cell_type": "markdown",
   "metadata": {},
   "source": [
    "### Case 2c: Variations in demand (changing starts) and constant generation\n",
    "Substitute flat demand by introducing two demand peaks and drops each per day with a changing amplitude. In addition to that alter the start of the load shifting processes."
   ]
  },
  {
   "cell_type": "code",
   "execution_count": null,
   "metadata": {},
   "outputs": [],
   "source": [
    "case = 'dem_variation_starts'\n",
    "\n",
    "# Data preperation: manipulate demand data\n",
    "df_data = df_base.copy()\n",
    "demand = [100] * timesteps\n",
    "\n",
    "# demand changes\n",
    "demand[3:4] = [125]\n",
    "demand[4:5] = [75]\n",
    "\n",
    "demand[15:16] = [150]\n",
    "demand[17:18] = [50]\n",
    "\n",
    "if timesteps > 24:\n",
    "    demand[26:27] = [25]\n",
    "    demand[29:30] = [175]\n",
    "\n",
    "    demand[37:38] = [0]\n",
    "    demand[41:42] = [200]\n",
    "\n",
    "df_data['demand_el'] = demand\n",
    "df_data['Cap_up'] = [100] * timesteps + df_data['Cap_up'] - df_data['demand_el']\n",
    "df_data['Cap_do'] = [100] * timesteps + df_data['demand_el'] - df_data['Cap_do']"
   ]
  },
  {
   "cell_type": "code",
   "execution_count": null,
   "metadata": {},
   "outputs": [],
   "source": [
    "plot_case(data=df_data, case=case)\n",
    "plot_case_residual(data=df_data, case=case)"
   ]
  },
  {
   "cell_type": "code",
   "execution_count": null,
   "metadata": {},
   "outputs": [],
   "source": [
    "# Introduce a dict to store the results of every approach\n",
    "approach_dict = {}\n",
    "\n",
    "minimum = 199 - existing\n",
    "\n",
    "for approach in approaches:\n",
    "    approach_dict[approach] = start_model(df_data, timesteps=len(df_data), plot=True, save=save_figs, case=case, \n",
    "                                          shift_interval=24, delay_time=4, efficiency=1, approach=approach,\n",
    "                                          cost_dsm_up=cost_dsm_up, cost_dsm_down_shift=cost_dsm_down_shift, cost_dsm_down_shed=cost_dsm_down_shed,\n",
    "                                          addition=False, recovery_time_shift=None, recovery_time_shed=4, figsize=(15,8), \n",
    "                                          shed_eligibility=True, shed_time=4, n_yearLimit_shed=6,\n",
    "                                          introduce_second_dsm_unit=introduce_second_dsm_unit,\n",
    "                                          fixes=True,\n",
    "                                          invest=invest,\n",
    "                                          flex_share_down=flex_share_down,\n",
    "                                          flex_share_up=flex_share_up,\n",
    "                                          existing=existing,\n",
    "                                          ep_costs=0.001, #0\n",
    "                                          minimum=minimum,\n",
    "                                          maximum=200,\n",
    "                                          max_demand_inv=df_data['demand_el'].max(),\n",
    "                                          max_capacity_down_inv=df_data['demand_el'].max(),\n",
    "                                          max_capacity_up_inv=200-df_data['demand_el'].min()\n",
    "                                         )"
   ]
  },
  {
   "cell_type": "code",
   "execution_count": null,
   "metadata": {},
   "outputs": [],
   "source": [
    "show_results_table(approach_dict, save_results)"
   ]
  },
  {
   "cell_type": "markdown",
   "metadata": {},
   "source": [
    "**Results validation / debugging**"
   ]
  },
  {
   "cell_type": "code",
   "execution_count": null,
   "metadata": {},
   "outputs": [],
   "source": [
    "results_dict = {}\n",
    "for k, v in approach_dict.items():\n",
    "    print(f\"approach: {k}\\t objective: {v[2]['objective']}\")\n",
    "    results_dict[k] = v[2]['objective']\n",
    "    \n",
    "results_df = pd.DataFrame.from_dict(results_dict, orient='index')"
   ]
  },
  {
   "cell_type": "code",
   "execution_count": null,
   "metadata": {},
   "outputs": [],
   "source": [
    "if invest:\n",
    "    for k, v in approach_dict.items():\n",
    "        print(f\"investment in DR for approach {k}: {v[3]} MW of installed capacity\")"
   ]
  },
  {
   "cell_type": "code",
   "execution_count": null,
   "metadata": {},
   "outputs": [],
   "source": [
    "if save_results:\n",
    "    if minimum != 0:\n",
    "        results_df.to_csv('target_vals_' + case + '_min_invest' + '.csv')\n",
    "    else:\n",
    "         results_df.to_csv('target_vals_' + case + '_no_min_invest' + '.csv')       "
   ]
  },
  {
   "cell_type": "markdown",
   "metadata": {},
   "source": [
    "### Case 2d: Variations in demand (longer duration) and constant generation\n",
    "Substitute flat demand by introducing in total three demand peaks and drops. The peaks and drops have a longer duration of more than one hour each. Thus, it can be seen how potential limits in interference times (i.e. shift times) behave (for the DLR approach).\n",
    "\n",
    "> _Note: For the DLR approach, it has been noticed that the core formulation can lead to unbalanced shifts at the end.<br> &rarr; Thus, an own fix is introduced forbidding shifts at the end that cannot be compensated for anymore. This is done within the variant with the addition \"\\_fixes\"._"
   ]
  },
  {
   "cell_type": "code",
   "execution_count": null,
   "metadata": {},
   "outputs": [],
   "source": [
    "case = 'dem_variation_duration'\n",
    "\n",
    "# Data preperation: manipulate demand data\n",
    "df_data = df_base.copy()\n",
    "demand = [100] * timesteps\n",
    "\n",
    "# demand changes\n",
    "demand[6:8] = [125] * 2\n",
    "demand[8:10] = [75] * 2\n",
    "\n",
    "demand[15:18] = [150] * 3\n",
    "demand[18:21] = [50] * 3\n",
    "\n",
    "if timesteps > 24:\n",
    "    demand[34:38] = [175] * 4\n",
    "    demand[38:42] = [25] * 4\n",
    "\n",
    "    #demand[34:36] = [50] * 2\n",
    "    #demand[36:38] = [0] * 2\n",
    "    #demand[38:40] = [150] * 2\n",
    "    #demand[40:42] = [200] * 2\n",
    "\n",
    "df_data['demand_el'] = demand\n",
    "df_data['Cap_up'] = [100] * timesteps + df_data['Cap_up'] - df_data['demand_el']\n",
    "df_data['Cap_do'] = [100] * timesteps + df_data['demand_el'] - df_data['Cap_do']"
   ]
  },
  {
   "cell_type": "code",
   "execution_count": null,
   "metadata": {},
   "outputs": [],
   "source": [
    "plot_case(data=df_data, case=case)\n",
    "plot_case_residual(data=df_data, case=case)"
   ]
  },
  {
   "cell_type": "code",
   "execution_count": null,
   "metadata": {},
   "outputs": [],
   "source": [
    "# Introduce a dict to store the results of every approach\n",
    "approach_dict = {}\n",
    "\n",
    "minimum = 174 - existing\n",
    "\n",
    "for approach in approaches:\n",
    "    approach_dict[approach] = start_model(df_data, timesteps=len(df_data), plot=True, \n",
    "                                          save=save_figs, case=case, \n",
    "                                          shift_interval=24, delay_time=4, efficiency=1, approach=approach,\n",
    "                                          cost_dsm_up=cost_dsm_up, cost_dsm_down_shift=cost_dsm_down_shift, \n",
    "                                          cost_dsm_down_shed=cost_dsm_down_shed,\n",
    "                                          addition=False, recovery_time_shift=None, recovery_time_shed=4, \n",
    "                                          figsize=(15,8),\n",
    "                                          shed_eligibility=True, shed_time=4, n_yearLimit_shed=6,\n",
    "                                          introduce_second_dsm_unit=introduce_second_dsm_unit,\n",
    "                                          invest=invest,\n",
    "                                          flex_share_down=flex_share_down,\n",
    "                                          flex_share_up=flex_share_up,\n",
    "                                          existing=existing,\n",
    "                                          ep_costs=0.001,\n",
    "                                          minimum=minimum,\n",
    "                                          maximum=200,\n",
    "                                          max_demand_inv=df_data['demand_el'].max(),\n",
    "                                          max_capacity_down_inv=df_data['demand_el'].max(),\n",
    "                                          max_capacity_up_inv=200-df_data['demand_el'].min(),\n",
    "                                         )\n",
    "    \n",
    "    if approach == \"DLR\":\n",
    "        approach_dict[approach+\"_fixes\"] = start_model(df_data, timesteps=len(df_data), plot=True, \n",
    "                                                      save=save_figs, case=case, \n",
    "                                                      shift_interval=24, delay_time=4, efficiency=1, approach=approach,\n",
    "                                                      cost_dsm_up=cost_dsm_up, cost_dsm_down_shift=cost_dsm_down_shift, \n",
    "                                                      cost_dsm_down_shed=cost_dsm_down_shed,\n",
    "                                                      addition=False, fixes=True,\n",
    "                                                      recovery_time_shift=None, recovery_time_shed=4, \n",
    "                                                      figsize=(15,8),\n",
    "                                                      shed_eligibility=True, shed_time=4, n_yearLimit_shed=6,\n",
    "                                                      introduce_second_dsm_unit=introduce_second_dsm_unit,\n",
    "                                                      invest=invest,\n",
    "                                                      flex_share_down=flex_share_down,\n",
    "                                                      flex_share_up=flex_share_up,\n",
    "                                                      existing=existing,\n",
    "                                                      ep_costs=0.001,\n",
    "                                                      minimum=minimum,\n",
    "                                                      maximum=200,\n",
    "                                                      max_demand_inv=df_data['demand_el'].max(),\n",
    "                                                      max_capacity_down_inv=df_data['demand_el'].max(),\n",
    "                                                      max_capacity_up_inv=200-df_data['demand_el'].min()\n",
    "                                                      )"
   ]
  },
  {
   "cell_type": "code",
   "execution_count": null,
   "metadata": {},
   "outputs": [],
   "source": [
    "show_results_table(approach_dict, save_results)"
   ]
  },
  {
   "cell_type": "markdown",
   "metadata": {},
   "source": [
    "**Results validation / debugging**"
   ]
  },
  {
   "cell_type": "code",
   "execution_count": null,
   "metadata": {},
   "outputs": [],
   "source": [
    "results_dict = {}\n",
    "for k, v in approach_dict.items():\n",
    "    print(f\"approach: {k}\\t objective: {v[2]['objective']}\")\n",
    "    results_dict[k] = v[2]['objective']\n",
    "    \n",
    "results_df = pd.DataFrame.from_dict(results_dict, orient='index')"
   ]
  },
  {
   "cell_type": "code",
   "execution_count": null,
   "metadata": {},
   "outputs": [],
   "source": [
    "if invest:\n",
    "    for k, v in approach_dict.items():\n",
    "        print(f\"investment in DR for approach {k}: {v[3]} MW of installed capacity\")"
   ]
  },
  {
   "cell_type": "code",
   "execution_count": null,
   "metadata": {},
   "outputs": [],
   "source": [
    "if save_results:\n",
    "    if minimum != 0:\n",
    "        results_df.to_csv('target_vals_' + case + '_min_invest' + '.csv')\n",
    "    else:\n",
    "         results_df.to_csv('target_vals_' + case + '_no_min_invest' + '.csv')       "
   ]
  },
  {
   "cell_type": "markdown",
   "metadata": {},
   "source": [
    "### Case 2e: Variations in demand (longer shifts) and constant generation\n",
    "Substitute flat demand by introducing in total three demand peaks and drops. The time between the initial process and its balancing opposite is much longer in this example."
   ]
  },
  {
   "cell_type": "code",
   "execution_count": null,
   "metadata": {},
   "outputs": [],
   "source": [
    "case = 'dem_variation_long_shifts'\n",
    "\n",
    "# Data preperation: manipulate demand data\n",
    "df_data = df_base.copy()\n",
    "demand = [100] * timesteps\n",
    "\n",
    "# demand changes\n",
    "demand[4:5] = [125]\n",
    "demand[9:10] = [75]\n",
    "\n",
    "demand[19:20] = [150]\n",
    "demand[25:26] = [50]\n",
    "\n",
    "if timesteps > 24:\n",
    "    demand[34:35] = [25]\n",
    "    demand[41:42] = [175]\n",
    "\n",
    "df_data['demand_el'] = demand\n",
    "df_data['Cap_up'] = [100] * timesteps + df_data['Cap_up'] - df_data['demand_el']\n",
    "df_data['Cap_do'] = [100] * timesteps + df_data['demand_el'] - df_data['Cap_do']"
   ]
  },
  {
   "cell_type": "code",
   "execution_count": null,
   "metadata": {},
   "outputs": [],
   "source": [
    "plot_case(data=df_data, case=case)\n",
    "plot_case_residual(data=df_data, case=case)"
   ]
  },
  {
   "cell_type": "code",
   "execution_count": null,
   "metadata": {},
   "outputs": [],
   "source": [
    "# Introduce a dict to store the results of every approach\n",
    "approach_dict = {}\n",
    "\n",
    "minimum = 174 - existing\n",
    "\n",
    "for approach in approaches:\n",
    "    approach_dict[approach] = start_model(df_data, timesteps=len(df_data), plot=True, save=save_figs, case=case, \n",
    "                                          shift_interval=48, delay_time=4, efficiency=1, approach=approach,\n",
    "                                          cost_dsm_up=cost_dsm_up, cost_dsm_down_shift=cost_dsm_down_shift, cost_dsm_down_shed=cost_dsm_down_shed,\n",
    "                                          addition=False, recovery_time_shift=None, recovery_time_shed=4, figsize=(15,8), \n",
    "                                          shed_eligibility=True, shed_time=4, n_yearLimit_shed=6,\n",
    "                                          fixes=True,\n",
    "                                          introduce_second_dsm_unit=introduce_second_dsm_unit,\n",
    "                                          invest=invest,\n",
    "                                          flex_share_down=flex_share_down,\n",
    "                                          flex_share_up=flex_share_up,\n",
    "                                          existing=existing,\n",
    "                                          ep_costs=0.001,\n",
    "                                          minimum=minimum,\n",
    "                                          maximum=200,\n",
    "                                          max_demand_inv=df_data['demand_el'].max(),\n",
    "                                          max_capacity_down_inv=df_data['demand_el'].max(),\n",
    "                                          max_capacity_up_inv=200-df_data['demand_el'].min()\n",
    "                                         )"
   ]
  },
  {
   "cell_type": "code",
   "execution_count": null,
   "metadata": {},
   "outputs": [],
   "source": [
    "show_results_table(approach_dict, save_results)"
   ]
  },
  {
   "cell_type": "markdown",
   "metadata": {},
   "source": [
    "**Results validation / debugging**"
   ]
  },
  {
   "cell_type": "code",
   "execution_count": null,
   "metadata": {},
   "outputs": [],
   "source": [
    "results_dict = {}\n",
    "for k, v in approach_dict.items():\n",
    "    print(f\"approach: {k}\\t objective: {v[2]['objective']}\")\n",
    "    results_dict[k] = v[2]['objective']\n",
    "    \n",
    "results_df = pd.DataFrame.from_dict(results_dict, orient='index')"
   ]
  },
  {
   "cell_type": "code",
   "execution_count": null,
   "metadata": {},
   "outputs": [],
   "source": [
    "if invest:\n",
    "    for k, v in approach_dict.items():\n",
    "        print(f\"investment in DR for approach {k}: {v[3]} MW of installed capacity\")"
   ]
  },
  {
   "cell_type": "code",
   "execution_count": null,
   "metadata": {},
   "outputs": [],
   "source": [
    "if save_results:\n",
    "    if minimum != 0:\n",
    "        results_df.to_csv('target_vals_' + case + '_min_invest' + '.csv')\n",
    "    else:\n",
    "         results_df.to_csv('target_vals_' + case + '_no_min_invest' + '.csv')       "
   ]
  },
  {
   "cell_type": "markdown",
   "metadata": {},
   "source": [
    "## Case 3: Increase in demand and constant generation (use case for load shedding)\n",
    "Substitute flat demand by introducing one demand peak over several hours which gives a use case for load shedding. Load shedding costs which are usually very high are set to a lower value here, in order to force some shedding avtivity."
   ]
  },
  {
   "cell_type": "code",
   "execution_count": null,
   "metadata": {},
   "outputs": [],
   "source": [
    "case = 'dem_variation_shed'\n",
    "\n",
    "# Data preperation: manipulate demand data\n",
    "df_data = df_base.copy()\n",
    "demand = [100] * timesteps\n",
    "\n",
    "# demand changes\n",
    "demand[10:14] = [200] * 4\n",
    "#demand[30:32] = [0] * 2\n",
    "\n",
    "df_data['demand_el'] = demand\n",
    "df_data['Cap_up'] = [100] * timesteps + df_data['Cap_up'] - df_data['demand_el']\n",
    "df_data['Cap_do'] = [100] * timesteps + df_data['demand_el'] - df_data['Cap_do']"
   ]
  },
  {
   "cell_type": "code",
   "execution_count": null,
   "metadata": {},
   "outputs": [],
   "source": [
    "plot_case(data=df_data, case=case)\n",
    "plot_case_residual(data=df_data, case=case)"
   ]
  },
  {
   "cell_type": "markdown",
   "metadata": {},
   "source": [
    "> _**NOTE:** A much lower value is used here for shedding costs in order to incentivize load shedding._"
   ]
  },
  {
   "cell_type": "markdown",
   "metadata": {},
   "source": [
    "### Case 3a: shift_eligibility = shed_eligibility = True"
   ]
  },
  {
   "cell_type": "code",
   "execution_count": null,
   "metadata": {},
   "outputs": [],
   "source": [
    "# Introduce a dict to store the results of every approach\n",
    "approach_dict = {}\n",
    "\n",
    "minimum = 0\n",
    "\n",
    "for approach in approaches:\n",
    "    approach_dict[approach] = start_model(df_data, timesteps=len(df_data), plot=True, save=save_figs, case=case, \n",
    "                                          shift_interval=24, delay_time=4, efficiency=1, approach=approach,\n",
    "                                          cost_dsm_up=cost_dsm_up, cost_dsm_down_shift=cost_dsm_down_shift, \n",
    "                                          cost_dsm_down_shed=0.1,\n",
    "                                          addition=False, recovery_time_shift=None, recovery_time_shed=4, \n",
    "                                          figsize=(15,8), \n",
    "                                          fixes=True,\n",
    "                                          shift_eligibility=True,\n",
    "                                          shed_eligibility=True, shed_time=4, n_yearLimit_shed=6,\n",
    "                                          introduce_second_dsm_unit=introduce_second_dsm_unit,\n",
    "                                          invest=invest,\n",
    "                                          flex_share_down=flex_share_down,\n",
    "                                          flex_share_up=flex_share_up,\n",
    "                                          existing=existing,\n",
    "                                          ep_costs=0.001,\n",
    "                                          minimum=minimum,\n",
    "                                          maximum=200,\n",
    "                                          max_demand_inv=df_data['demand_el'].max(),\n",
    "                                          max_capacity_down_inv=df_data['demand_el'].max(),\n",
    "                                          max_capacity_up_inv=200-df_data['demand_el'].min()\n",
    "                                         )"
   ]
  },
  {
   "cell_type": "code",
   "execution_count": null,
   "metadata": {},
   "outputs": [],
   "source": [
    "show_results_table(approach_dict, save_results)"
   ]
  },
  {
   "cell_type": "markdown",
   "metadata": {},
   "source": [
    "**Results validation / debugging**"
   ]
  },
  {
   "cell_type": "code",
   "execution_count": null,
   "metadata": {},
   "outputs": [],
   "source": [
    "results_dict = {}\n",
    "for k, v in approach_dict.items():\n",
    "    print(f\"approach: {k}\\t objective: {v[2]['objective']}\")\n",
    "    results_dict[k] = v[2]['objective']\n",
    "    \n",
    "results_df = pd.DataFrame.from_dict(results_dict, orient='index')"
   ]
  },
  {
   "cell_type": "code",
   "execution_count": null,
   "metadata": {},
   "outputs": [],
   "source": [
    "if invest:\n",
    "    for k, v in approach_dict.items():\n",
    "        print(f\"investment in DR for approach {k}: {v[3]} MW of installed capacity\")"
   ]
  },
  {
   "cell_type": "code",
   "execution_count": null,
   "metadata": {},
   "outputs": [],
   "source": [
    "if save_results:\n",
    "    if minimum != 0:\n",
    "        results_df.to_csv('target_vals_' + case + '_min_invest' + '.csv')\n",
    "    else:\n",
    "         results_df.to_csv('target_vals_' + case + '_no_min_invest' + '.csv')       "
   ]
  },
  {
   "cell_type": "markdown",
   "metadata": {},
   "source": [
    "### Case 3b: shift_eligibility = True; shed_eligibility = False"
   ]
  },
  {
   "cell_type": "code",
   "execution_count": null,
   "metadata": {},
   "outputs": [],
   "source": [
    "# Introduce a dict to store the results of every approach\n",
    "approach_dict = {}\n",
    "\n",
    "minimum = 0\n",
    "\n",
    "for approach in approaches:\n",
    "    approach_dict[approach] = start_model(df_data, timesteps=len(df_data), plot=True, save=save_figs, case=case, \n",
    "                                          shift_interval=24, delay_time=4, efficiency=1, approach=approach,\n",
    "                                          cost_dsm_up=cost_dsm_up, cost_dsm_down_shift=cost_dsm_down_shift, \n",
    "                                          cost_dsm_down_shed=0.1,\n",
    "                                          addition=False, recovery_time_shift=None, recovery_time_shed=4, \n",
    "                                          figsize=(15,8), \n",
    "                                          fixes=True,\n",
    "                                          shift_eligibility=True,\n",
    "                                          shed_eligibility=False, shed_time=4, n_yearLimit_shed=6,\n",
    "                                          introduce_second_dsm_unit=introduce_second_dsm_unit,\n",
    "                                          invest=invest,\n",
    "                                          flex_share_down=flex_share_down,\n",
    "                                          flex_share_up=flex_share_up,\n",
    "                                          existing=existing,\n",
    "                                          ep_costs=0.001,\n",
    "                                          minimum=minimum,\n",
    "                                          maximum=200,\n",
    "                                          max_demand_inv=df_data['demand_el'].max(),\n",
    "                                          max_capacity_down_inv=df_data['demand_el'].max(),\n",
    "                                          max_capacity_up_inv=200-df_data['demand_el'].min()\n",
    "                                         )"
   ]
  },
  {
   "cell_type": "code",
   "execution_count": null,
   "metadata": {},
   "outputs": [],
   "source": [
    "show_results_table(approach_dict, save_results)"
   ]
  },
  {
   "cell_type": "markdown",
   "metadata": {},
   "source": [
    "**Results validation / debugging**"
   ]
  },
  {
   "cell_type": "code",
   "execution_count": null,
   "metadata": {},
   "outputs": [],
   "source": [
    "results_dict = {}\n",
    "for k, v in approach_dict.items():\n",
    "    print(f\"approach: {k}\\t objective: {v[2]['objective']}\")\n",
    "    results_dict[k] = v[2]['objective']\n",
    "    \n",
    "results_df = pd.DataFrame.from_dict(results_dict, orient='index')"
   ]
  },
  {
   "cell_type": "code",
   "execution_count": null,
   "metadata": {},
   "outputs": [],
   "source": [
    "if invest:\n",
    "    for k, v in approach_dict.items():\n",
    "        print(f\"investment in DR for approach {k}: {v[3]} MW of installed capacity\")"
   ]
  },
  {
   "cell_type": "code",
   "execution_count": null,
   "metadata": {},
   "outputs": [],
   "source": [
    "if save_results:\n",
    "    if minimum != 0:\n",
    "        results_df.to_csv('target_vals_' + case + '_min_invest' + '.csv')\n",
    "    else:\n",
    "         results_df.to_csv('target_vals_' + case + '_no_min_invest' + '.csv')       "
   ]
  },
  {
   "cell_type": "markdown",
   "metadata": {},
   "source": [
    "### Case 3c: shift_eligibility = False; shed_eligibility = True"
   ]
  },
  {
   "cell_type": "code",
   "execution_count": null,
   "metadata": {},
   "outputs": [],
   "source": [
    "# Introduce a dict to store the results of every approach\n",
    "approach_dict = {}\n",
    "\n",
    "minimum = 0\n",
    "\n",
    "for approach in approaches:\n",
    "    approach_dict[approach] = start_model(df_data, timesteps=len(df_data), plot=True, save=save_figs, case=case, \n",
    "                                          shift_interval=24, delay_time=4, efficiency=1, approach=approach,\n",
    "                                          cost_dsm_up=cost_dsm_up, cost_dsm_down_shift=cost_dsm_down_shift, \n",
    "                                          cost_dsm_down_shed=0.1,\n",
    "                                          addition=False, recovery_time_shift=None, recovery_time_shed=4, \n",
    "                                          figsize=(15,8), \n",
    "                                          fixes=True,\n",
    "                                          shift_eligibility=False,\n",
    "                                          shed_eligibility=True, shed_time=4, n_yearLimit_shed=6,\n",
    "                                          introduce_second_dsm_unit=introduce_second_dsm_unit,\n",
    "                                          invest=invest,\n",
    "                                          flex_share_down=flex_share_down,\n",
    "                                          flex_share_up=flex_share_up,\n",
    "                                          existing=existing,\n",
    "                                          ep_costs=0.001,\n",
    "                                          minimum=minimum,\n",
    "                                          maximum=200,\n",
    "                                          max_demand_inv=df_data['demand_el'].max(),\n",
    "                                          max_capacity_down_inv=df_data['demand_el'].max(),\n",
    "                                          max_capacity_up_inv=200-df_data['demand_el'].min()\n",
    "                                         )"
   ]
  },
  {
   "cell_type": "code",
   "execution_count": null,
   "metadata": {},
   "outputs": [],
   "source": [
    "show_results_table(approach_dict, save_results)"
   ]
  },
  {
   "cell_type": "markdown",
   "metadata": {},
   "source": [
    "**Results validation / debugging**"
   ]
  },
  {
   "cell_type": "code",
   "execution_count": null,
   "metadata": {},
   "outputs": [],
   "source": [
    "results_dict = {}\n",
    "for k, v in approach_dict.items():\n",
    "    print(f\"approach: {k}\\t objective: {v[2]['objective']}\")\n",
    "    results_dict[k] = v[2]['objective']\n",
    "    \n",
    "results_df = pd.DataFrame.from_dict(results_dict, orient='index')"
   ]
  },
  {
   "cell_type": "code",
   "execution_count": null,
   "metadata": {},
   "outputs": [],
   "source": [
    "if invest:\n",
    "    for k, v in approach_dict.items():\n",
    "        print(f\"investment in DR for approach {k}: {v[3]} MW of installed capacity\")"
   ]
  },
  {
   "cell_type": "code",
   "execution_count": null,
   "metadata": {},
   "outputs": [],
   "source": [
    "if save_results:\n",
    "    if minimum != 0:\n",
    "        results_df.to_csv('target_vals_' + case + '_min_invest' + '.csv')\n",
    "    else:\n",
    "         results_df.to_csv('target_vals_' + case + '_no_min_invest' + '.csv')       "
   ]
  },
  {
   "cell_type": "markdown",
   "metadata": {},
   "source": [
    "## Case 4: Variations in generation and constant demand\n",
    "Introduce wind peaks and wind drops with a changing amplitude."
   ]
  },
  {
   "cell_type": "code",
   "execution_count": null,
   "metadata": {
    "scrolled": true
   },
   "outputs": [],
   "source": [
    "case = 'gen_variation'\n",
    "\n",
    "# Data preperation: manipulate wind data\n",
    "df_data = df_base.copy()\n",
    "wind = [100] * timesteps\n",
    "\n",
    "# wind changes\n",
    "wind[1:2] = [0]\n",
    "wind[4:5] = [175]\n",
    "if timesteps > 24:\n",
    "    wind[41:42] = [200]\n",
    "    wind[44:45] = [25]\n",
    "\n",
    "df_data['wind'] = wind"
   ]
  },
  {
   "cell_type": "code",
   "execution_count": null,
   "metadata": {},
   "outputs": [],
   "source": [
    "plot_case(data=df_data, case=case)\n",
    "plot_case_residual(data=df_data, case=case)"
   ]
  },
  {
   "cell_type": "code",
   "execution_count": null,
   "metadata": {},
   "outputs": [],
   "source": [
    "# Introduce a dict to store the results of every approach\n",
    "approach_dict = {}\n",
    "\n",
    "if force_min_invest:\n",
    "    minimum = 0\n",
    "\n",
    "for approach in approaches:\n",
    "    approach_dict[approach] = start_model(df_data, timesteps=len(df_data), plot=True, save=save_figs, case=case, \n",
    "                                          shift_interval=24, delay_time=4, efficiency=1, approach=approach,\n",
    "                                          cost_dsm_up=cost_dsm_up, cost_dsm_down_shift=cost_dsm_down_shift, cost_dsm_down_shed=cost_dsm_down_shed,\n",
    "                                          addition=False, recovery_time_shift=None, recovery_time_shed=4, figsize=(15,8), \n",
    "                                          shed_eligibility=True, shed_time=4, n_yearLimit_shed=6,\n",
    "                                          fixes=True,\n",
    "                                          introduce_second_dsm_unit=introduce_second_dsm_unit,\n",
    "                                          invest=invest,\n",
    "                                          flex_share_down=flex_share_down,\n",
    "                                          flex_share_up=flex_share_up,\n",
    "                                          existing=existing,\n",
    "                                          ep_costs=0.001,\n",
    "                                          minimum=minimum,\n",
    "                                          maximum=200,\n",
    "                                          max_demand_inv=df_data['demand_el'].max(),\n",
    "                                          max_capacity_down_inv=df_data['demand_el'].max(),\n",
    "                                          max_capacity_up_inv=200-df_data['demand_el'].min()\n",
    "                                         )"
   ]
  },
  {
   "cell_type": "code",
   "execution_count": null,
   "metadata": {},
   "outputs": [],
   "source": [
    "show_results_table(approach_dict, save_results)"
   ]
  },
  {
   "cell_type": "markdown",
   "metadata": {},
   "source": [
    "**Results validation / debugging**"
   ]
  },
  {
   "cell_type": "code",
   "execution_count": null,
   "metadata": {},
   "outputs": [],
   "source": [
    "results_dict = {}\n",
    "for k, v in approach_dict.items():\n",
    "    print(f\"approach: {k}\\t objective: {v[2]['objective']}\")\n",
    "    results_dict[k] = v[2]['objective']\n",
    "    \n",
    "results_df = pd.DataFrame.from_dict(results_dict, orient='index')"
   ]
  },
  {
   "cell_type": "code",
   "execution_count": null,
   "metadata": {},
   "outputs": [],
   "source": [
    "if invest:\n",
    "    for k, v in approach_dict.items():\n",
    "        print(f\"investment in DR for approach {k}: {v[3]} MW of installed capacity\")"
   ]
  },
  {
   "cell_type": "code",
   "execution_count": null,
   "metadata": {},
   "outputs": [],
   "source": [
    "if save_results:\n",
    "    if minimum != 0:\n",
    "        results_df.to_csv('target_vals_' + case + '_min_invest' + '.csv')\n",
    "    else:\n",
    "         results_df.to_csv('target_vals_' + case + '_no_min_invest' + '.csv')       "
   ]
  },
  {
   "cell_type": "markdown",
   "metadata": {},
   "source": [
    "## Case 5: Variations in demand and generation\n",
    "Demand and wind variations are introduced. The residual load plot shows what is effectively to be balanced here."
   ]
  },
  {
   "cell_type": "code",
   "execution_count": null,
   "metadata": {},
   "outputs": [],
   "source": [
    "case = 'combined_variation'\n",
    "\n",
    "# Data preperation: manipulate demand and wind data\n",
    "df_data = df_base.copy()\n",
    "demand = [100] * timesteps\n",
    "wind = [100] * timesteps\n",
    "\n",
    "# demand changes\n",
    "demand[11:12] = [50]\n",
    "demand[13:14] = [150]\n",
    "if timesteps > 24:\n",
    "    demand[33:34] = [150]\n",
    "    demand[37:38] = [50]\n",
    "\n",
    "# wind changes\n",
    "wind[3:4] = [0]\n",
    "wind[10:11] = [175]\n",
    "if timesteps > 24:\n",
    "    wind[38:39] = [200]\n",
    "    wind[40:41] = [25]\n",
    "\n",
    "df_data['demand_el'] = demand\n",
    "df_data['Cap_up'] = [100] * timesteps + df_data['Cap_up'] - df_data['demand_el']\n",
    "df_data['Cap_do'] = [100] * timesteps + df_data['demand_el'] - df_data['Cap_do']\n",
    "df_data['wind'] = wind"
   ]
  },
  {
   "cell_type": "code",
   "execution_count": null,
   "metadata": {},
   "outputs": [],
   "source": [
    "plot_case(data=df_data, case=case)\n",
    "plot_case_residual(data=df_data, case=case)"
   ]
  },
  {
   "cell_type": "code",
   "execution_count": null,
   "metadata": {},
   "outputs": [],
   "source": [
    "# Introduce a dict to store the results of every approach\n",
    "approach_dict = {}\n",
    "\n",
    "if force_min_invest:\n",
    "    minimum = 199 - existing\n",
    "\n",
    "for approach in approaches:\n",
    "    approach_dict[approach] = start_model(df_data, timesteps=len(df_data), plot=True, save=save_figs, case=case, \n",
    "                                          shift_interval=24, delay_time=4, efficiency=1, approach=approach,\n",
    "                                          cost_dsm_up=cost_dsm_up, cost_dsm_down_shift=cost_dsm_down_shift, cost_dsm_down_shed=cost_dsm_down_shed,\n",
    "                                          addition=False, recovery_time_shift=None, recovery_time_shed=4, figsize=(15,8), \n",
    "                                          shed_eligibility=True, shed_time=4, n_yearLimit_shed=6,\n",
    "                                          fixes=True,\n",
    "                                          introduce_second_dsm_unit=introduce_second_dsm_unit,\n",
    "                                          invest=invest,\n",
    "                                          flex_share_down=flex_share_down,\n",
    "                                          flex_share_up=flex_share_up,\n",
    "                                          existing=existing,\n",
    "                                          ep_costs=0.001,\n",
    "                                          minimum=minimum,\n",
    "                                          maximum=200,\n",
    "                                          max_demand_inv=df_data['demand_el'].max(),\n",
    "                                          max_capacity_down_inv=df_data['demand_el'].max(),\n",
    "                                          max_capacity_up_inv=200-df_data['demand_el'].min()\n",
    "                                         )"
   ]
  },
  {
   "cell_type": "code",
   "execution_count": null,
   "metadata": {},
   "outputs": [],
   "source": [
    "show_results_table(approach_dict, save_results)"
   ]
  },
  {
   "cell_type": "markdown",
   "metadata": {},
   "source": [
    "**Results validation / debugging**"
   ]
  },
  {
   "cell_type": "code",
   "execution_count": null,
   "metadata": {},
   "outputs": [],
   "source": [
    "results_dict = {}\n",
    "for k, v in approach_dict.items():\n",
    "    print(f\"approach: {k}\\t objective: {v[2]['objective']}\")\n",
    "    results_dict[k] = v[2]['objective']\n",
    "    \n",
    "results_df = pd.DataFrame.from_dict(results_dict, orient='index')"
   ]
  },
  {
   "cell_type": "code",
   "execution_count": null,
   "metadata": {},
   "outputs": [],
   "source": [
    "if invest:\n",
    "    for k, v in approach_dict.items():\n",
    "        print(f\"investment in DR for approach {k}: {v[3]} MW of installed capacity\")"
   ]
  },
  {
   "cell_type": "code",
   "execution_count": null,
   "metadata": {},
   "outputs": [],
   "source": [
    "if save_results:\n",
    "    if minimum != 0:\n",
    "        results_df.to_csv('target_vals_' + case + '_min_invest' + '.csv')\n",
    "    else:\n",
    "         results_df.to_csv('target_vals_' + case + '_no_min_invest' + '.csv')       "
   ]
  },
  {
   "cell_type": "markdown",
   "metadata": {},
   "source": [
    "# Parameters and constraints variations\n",
    "* Parameters to be variated:\n",
    "    * delay times\n",
    "    * shift times\n",
    "    * costs\n",
    "    * efficiency\n",
    "    * longer term energy limits: recovery time and maximum activations\n",
    "    * short-term energy limits: recovery time and short term limit\n",
    "* Constraints to be analyzed:\n",
    "    * optional constraints for Gils (2015) &rarr; included in long- and short-term energy limits analysis\n",
    "    * overall energy limits (activate / deactive) &rarr; see in long-term energy limits analysis\n",
    "    * additional constraint (eq. 10 from Zerrahn & Schill 2015)\n",
    " \n",
    "The cases for the parameter and constraints variations are chosen in such a way that the effects of parameter and constraints variations become visible. Therefore, the model setting and constraints formulation has been carefully analyzed in order to find out, how the model setting and individual parameters and constraints should behave."
   ]
  },
  {
   "cell_type": "markdown",
   "metadata": {},
   "source": [
    "## Variations in delay time"
   ]
  },
  {
   "cell_type": "markdown",
   "metadata": {},
   "source": [
    "### Define settings for delay time analysis"
   ]
  },
  {
   "cell_type": "code",
   "execution_count": null,
   "metadata": {},
   "outputs": [],
   "source": [
    "case = 'dem_variation'\n",
    "\n",
    "# Data preperation: manipulate demand data\n",
    "df_data = df_base.copy()\n",
    "demand = [100] * timesteps\n",
    "\n",
    "# demand changes\n",
    "demand[4:5] = [125]\n",
    "demand[5:6] = [75]\n",
    "\n",
    "demand[11:12] = [150]\n",
    "demand[13:14] = [50]\n",
    "\n",
    "if timesteps > 24:\n",
    "    demand[26:27] = [25]\n",
    "    demand[29:30] = [175]\n",
    "\n",
    "    demand[36:37] = [0]\n",
    "    demand[40:41] = [200]\n",
    "\n",
    "df_data['demand_el'] = demand\n",
    "df_data['Cap_up'] = [100] * timesteps + df_data['Cap_up'] - df_data['demand_el']\n",
    "df_data['Cap_do'] = [100] * timesteps + df_data['demand_el'] - df_data['Cap_do']"
   ]
  },
  {
   "cell_type": "code",
   "execution_count": null,
   "metadata": {},
   "outputs": [],
   "source": [
    "plot_case(data=df_data, case='dem_variation')\n",
    "plot_case_residual(data=df_data, case='dem_variation')"
   ]
  },
  {
   "cell_type": "markdown",
   "metadata": {},
   "source": [
    "### Compare variations in delay time"
   ]
  },
  {
   "cell_type": "code",
   "execution_count": null,
   "metadata": {},
   "outputs": [],
   "source": [
    "# Introduce a dict to store the results of every approach\n",
    "delay_times = [1, 2, 3, 4, 5]\n",
    "approach_dict = {}\n",
    "\n",
    "for dt in delay_times:\n",
    "    print(\"-----------------------------------------------------------------------------------------------\")\n",
    "    print(\"delay time {:d}\".format(dt))\n",
    "    print(\"-----------------------------------------------------------------------------------------------\")\n",
    "    for approach in approaches:\n",
    "\n",
    "        approach_dict[(approach, dt)] = \\\n",
    "            start_model(df_data, \n",
    "                        timesteps=len(df_data), \n",
    "                        plot=True, \n",
    "                        save=save_figs, \n",
    "                        case=case,\n",
    "                        shift_interval=24, \n",
    "                        param_variations='_delay_time_{:d}'.format(dt), \n",
    "                        delay_time=dt, \n",
    "                        efficiency=1, \n",
    "                        approach=approach,\n",
    "                        cost_dsm_up=cost_dsm_up, \n",
    "                        cost_dsm_down_shift=cost_dsm_down_shift, \n",
    "                        cost_dsm_down_shed=cost_dsm_down_shed,\n",
    "                        addition=False, \n",
    "                        recovery_time_shift=None, \n",
    "                        recovery_time_shed=4, \n",
    "                        figsize=(15,8), \n",
    "                        shed_eligibility=True, \n",
    "                        shed_time=4, \n",
    "                        n_yearLimit_shed=6,\n",
    "                        fixes=True,\n",
    "                        introduce_second_dsm_unit=introduce_second_dsm_unit,\n",
    "                        invest=invest,\n",
    "                        flex_share_down=flex_share_down,\n",
    "                        flex_share_up=flex_share_up,\n",
    "                        ep_costs=0.001,\n",
    "                        minimum=minimum,\n",
    "                        maximum=200,\n",
    "                        max_demand_inv=df_data['demand_el'].max(),\n",
    "                        max_capacity_down_inv=df_data['demand_el'].max(),\n",
    "                        max_capacity_up_inv=200-df_data['demand_el'].min())"
   ]
  },
  {
   "cell_type": "code",
   "execution_count": null,
   "metadata": {},
   "outputs": [],
   "source": [
    "show_results_table(approach_dict, save_results, MultiIndex=True,\n",
    "                  param_name=\"delay_time\")"
   ]
  },
  {
   "cell_type": "code",
   "execution_count": null,
   "metadata": {},
   "outputs": [],
   "source": [
    "results_dict = {}\n",
    "for k, v in approach_dict.items():\n",
    "    print(f\"approach: {k}\\t objective: {v[2]['objective']}\")\n",
    "    results_dict[k] = v[2]['objective']\n",
    "    \n",
    "results_df = pd.DataFrame.from_dict(results_dict, orient='index')"
   ]
  },
  {
   "cell_type": "code",
   "execution_count": null,
   "metadata": {},
   "outputs": [],
   "source": [
    "if invest:\n",
    "    for k, v in approach_dict.items():\n",
    "        print(f\"investment in DR for approach {k}: {v[3]} MW of installed capacity\")"
   ]
  },
  {
   "cell_type": "markdown",
   "metadata": {},
   "source": [
    "## Variations in shift time"
   ]
  },
  {
   "cell_type": "markdown",
   "metadata": {},
   "source": [
    "### Define settings for shift time analysis"
   ]
  },
  {
   "cell_type": "code",
   "execution_count": null,
   "metadata": {},
   "outputs": [],
   "source": [
    "case = 'dem_variation_duration'\n",
    "\n",
    "# Data preperation: manipulate demand data\n",
    "df_data = df_base.copy()\n",
    "demand = [100] * timesteps\n",
    "\n",
    "# demand changes\n",
    "demand[6:8] = [125] * 2\n",
    "demand[8:10] = [75] * 2\n",
    "\n",
    "demand[15:18] = [150] * 3\n",
    "demand[18:21] = [50] * 3\n",
    "\n",
    "if timesteps > 24:\n",
    "    demand[34:38] = [0] * 4\n",
    "    demand[38:42] = [200] * 4\n",
    "\n",
    "df_data['demand_el'] = demand\n",
    "df_data['Cap_up'] = [100] * timesteps + df_data['Cap_up'] - df_data['demand_el']\n",
    "df_data['Cap_do'] = [100] * timesteps + df_data['demand_el'] - df_data['Cap_do']"
   ]
  },
  {
   "cell_type": "code",
   "execution_count": null,
   "metadata": {},
   "outputs": [],
   "source": [
    "plot_case(data=df_data, case='dem_variation_duration')\n",
    "plot_case_residual(data=df_data, case='dem_variation_duration')"
   ]
  },
  {
   "cell_type": "markdown",
   "metadata": {},
   "source": [
    "### Compare variations in shift time"
   ]
  },
  {
   "cell_type": "code",
   "execution_count": null,
   "metadata": {},
   "outputs": [],
   "source": [
    "# Introduce a dict to store the results of every approach\n",
    "shift_times = [1, 2, 3, 4, 5]\n",
    "approach_dict = {}\n",
    "\n",
    "for st in shift_times:\n",
    "    print(\"-----------------------------------------------------------------------------------------------\")\n",
    "    print(\"shift time {:d}\".format(st))\n",
    "    print(\"-----------------------------------------------------------------------------------------------\")\n",
    "    for approach in approaches:\n",
    "\n",
    "        approach_dict[(approach, st)] = \\\n",
    "            start_model(df_data, timesteps=len(df_data), plot=True, save=save_figs, case=case,\n",
    "                        shift_interval=24, \n",
    "                        param_variations='_shift_time_{:d}'.format(st),\n",
    "                        method='delay', delay_time=4, efficiency=1, approach=approach,\n",
    "                        cost_dsm_up=cost_dsm_up, cost_dsm_down_shift=cost_dsm_down_shift, \n",
    "                        cost_dsm_down_shed=cost_dsm_down_shed,\n",
    "                        addition=False, recovery_time_shift=None, recovery_time_shed=4, figsize=(15,8), \n",
    "                        shed_eligibility=True, shed_time=4, n_yearLimit_shed=6,\n",
    "                        introduce_second_dsm_unit=introduce_second_dsm_unit,\n",
    "                        shift_time=st,\n",
    "                        invest=invest,\n",
    "                        flex_share_down=flex_share_down,\n",
    "                        flex_share_up=flex_share_up,\n",
    "                        ep_costs=0.001,\n",
    "                        minimum=minimum,\n",
    "                        maximum=200,\n",
    "                        max_demand_inv=df_data['demand_el'].max(),\n",
    "                        max_capacity_down_inv=df_data['demand_el'].max(),\n",
    "                        max_capacity_up_inv=200-df_data['demand_el'].min())\n",
    "        \n",
    "        if approach == \"DLR\":\n",
    "            approach_dict[(approach, st)] = \\\n",
    "                start_model(df_data, timesteps=len(df_data), plot=True, save=save_figs, case=case,\n",
    "                            shift_interval=24, \n",
    "                            param_variations='_fixes_shift_time_{:d}'.format(st),\n",
    "                            method='delay', delay_time=4, efficiency=1, approach=approach,\n",
    "                            cost_dsm_up=cost_dsm_up, cost_dsm_down_shift=cost_dsm_down_shift, \n",
    "                            cost_dsm_down_shed=cost_dsm_down_shed,\n",
    "                            addition=False, fixes=True,\n",
    "                            recovery_time_shift=None, recovery_time_shed=4, figsize=(15,8), \n",
    "                            shed_eligibility=True, shed_time=4, n_yearLimit_shed=6,\n",
    "                            introduce_second_dsm_unit=introduce_second_dsm_unit,\n",
    "                            shift_time=st,\n",
    "                            invest=invest,\n",
    "                            flex_share_down=flex_share_down,\n",
    "                            flex_share_up=flex_share_up,\n",
    "                            ep_costs=0.001,\n",
    "                            minimum=minimum,\n",
    "                            maximum=200,\n",
    "                            max_demand_inv=df_data['demand_el'].max(),\n",
    "                            max_capacity_down_inv=df_data['demand_el'].max(),\n",
    "                            max_capacity_up_inv=200-df_data['demand_el'].min())"
   ]
  },
  {
   "cell_type": "code",
   "execution_count": null,
   "metadata": {},
   "outputs": [],
   "source": [
    "show_results_table(approach_dict, save_results, MultiIndex=True,\n",
    "                  param_name=\"shift_time\")"
   ]
  },
  {
   "cell_type": "code",
   "execution_count": null,
   "metadata": {},
   "outputs": [],
   "source": [
    "results_dict = {}\n",
    "for k, v in approach_dict.items():\n",
    "    print(f\"approach: {k}\\t objective: {v[2]['objective']}\")\n",
    "    results_dict[k] = v[2]['objective']\n",
    "    \n",
    "results_df = pd.DataFrame.from_dict(results_dict, orient='index')"
   ]
  },
  {
   "cell_type": "code",
   "execution_count": null,
   "metadata": {},
   "outputs": [],
   "source": [
    "if invest:\n",
    "    for k, v in approach_dict.items():\n",
    "        print(f\"investment in DR for approach {k}: {v[3]} MW of installed capacity\")"
   ]
  },
  {
   "cell_type": "markdown",
   "metadata": {},
   "source": [
    "## Variations in DSM costs"
   ]
  },
  {
   "cell_type": "markdown",
   "metadata": {},
   "source": [
    "### Define settings for cost analysis"
   ]
  },
  {
   "cell_type": "code",
   "execution_count": null,
   "metadata": {},
   "outputs": [],
   "source": [
    "case = 'dem_variation'\n",
    "\n",
    "# Data preperation: manipulate demand data\n",
    "df_data = df_base.copy()\n",
    "demand = [100] * timesteps\n",
    "\n",
    "# demand changes\n",
    "demand[4:5] = [125]\n",
    "demand[5:6] = [75]\n",
    "\n",
    "demand[11:12] = [150]\n",
    "demand[13:14] = [50]\n",
    "\n",
    "if timesteps > 24:\n",
    "    demand[26:27] = [25]\n",
    "    demand[29:30] = [175]\n",
    "\n",
    "    demand[36:37] = [0]\n",
    "    demand[40:41] = [200]\n",
    "\n",
    "df_data['demand_el'] = demand\n",
    "df_data['Cap_up'] = [100] * timesteps + df_data['Cap_up'] - df_data['demand_el']\n",
    "df_data['Cap_do'] = [100] * timesteps + df_data['demand_el'] - df_data['Cap_do']"
   ]
  },
  {
   "cell_type": "code",
   "execution_count": null,
   "metadata": {},
   "outputs": [],
   "source": [
    "plot_case(data=df_data, case='dem_variation')\n",
    "plot_case_residual(data=df_data, case='dem_variation')"
   ]
  },
  {
   "cell_type": "markdown",
   "metadata": {},
   "source": [
    "### Compare variations in costs"
   ]
  },
  {
   "cell_type": "code",
   "execution_count": null,
   "metadata": {},
   "outputs": [],
   "source": [
    "# Introduce a dict to store the results of every approach\n",
    "cost_dsm = [0.1, 1, 16.74*2, 16.75*2, 32.5*2, 200]\n",
    "approach_dict = {}\n",
    "\n",
    "for cost in cost_dsm:\n",
    "    \n",
    "    # Cost is split half on upwards and downwards shift; shedding gets high costs\n",
    "    cost_dsm_up = cost/2\n",
    "    cost_dsm_down_shift = cost/2\n",
    "    cost_dsm_down_shed = 1000 * cost\n",
    "\n",
    "    print(\"-----------------------------------------------------------------------------------------------\")\n",
    "    print(\"costs {:.4f}\".format(cost))\n",
    "    print(\"-----------------------------------------------------------------------------------------------\")\n",
    "    for approach in approaches:\n",
    "\n",
    "        approach_dict[(approach, cost)] = \\\n",
    "            start_model(df_data, timesteps=len(df_data), plot=True, save=save_figs, case=case,\n",
    "                        shift_interval=24, \n",
    "                        param_variations='_dsm_cost_{:f}'.format(cost_dsm_up),\n",
    "                        method='delay', delay_time=4, efficiency=1, approach=approach,\n",
    "                        cost_dsm_up=cost_dsm_up, cost_dsm_down_shift=cost_dsm_down_shift, cost_dsm_down_shed=cost_dsm_down_shed,\n",
    "                        addition=False, recovery_time_shift=None, recovery_time_shed=4, figsize=(15,8), \n",
    "                        shed_eligibility=True, shed_time=4, n_yearLimit_shed=6,\n",
    "                        introduce_second_dsm_unit=introduce_second_dsm_unit,\n",
    "                        invest=invest,\n",
    "                        flex_share_down=flex_share_down,\n",
    "                        flex_share_up=flex_share_up,\n",
    "                        ep_costs=0.001,\n",
    "                        minimum=minimum,\n",
    "                        maximum=200,\n",
    "                        max_demand_inv=df_data['demand_el'].max(),\n",
    "                        max_capacity_down_inv=df_data['demand_el'].max(),\n",
    "                        max_capacity_up_inv=200-df_data['demand_el'].min())"
   ]
  },
  {
   "cell_type": "code",
   "execution_count": null,
   "metadata": {},
   "outputs": [],
   "source": [
    "show_results_table(approach_dict, save_results, MultiIndex=True,\n",
    "                  param_name=\"costs\")"
   ]
  },
  {
   "cell_type": "code",
   "execution_count": null,
   "metadata": {},
   "outputs": [],
   "source": [
    "results_dict = {}\n",
    "for k, v in approach_dict.items():\n",
    "    print(f\"approach: {k}\\t objective: {v[2]['objective']}\")\n",
    "    results_dict[k] = v[2]['objective']\n",
    "    \n",
    "results_df = pd.DataFrame.from_dict(results_dict, orient='index')"
   ]
  },
  {
   "cell_type": "code",
   "execution_count": null,
   "metadata": {},
   "outputs": [],
   "source": [
    "if invest:\n",
    "    for k, v in approach_dict.items():\n",
    "        print(f\"investment in DR for approach {k}: {v[3]} MW of installed capacity\")"
   ]
  },
  {
   "cell_type": "markdown",
   "metadata": {},
   "source": [
    "**Reset costs values:** Reset DSM costs to original values for further considerations"
   ]
  },
  {
   "cell_type": "code",
   "execution_count": null,
   "metadata": {},
   "outputs": [],
   "source": [
    "cost_dsm = 0.1\n",
    "\n",
    "# Cost is split half on upwards and downwards shift; shedding gets high costs\n",
    "cost_dsm_up = cost_dsm/2\n",
    "cost_dsm_down_shift = cost_dsm/2\n",
    "cost_dsm_down_shed = 1000 * cost_dsm"
   ]
  },
  {
   "cell_type": "markdown",
   "metadata": {},
   "source": [
    "## Variations in DSM efficiency\n",
    "So far, only examples with an efficiency of one, i.e. no losses have been considered.<br>\n",
    "If efficiencies are introduces, load shifts can be balanced out except for these losses.\n",
    "\n",
    "> _Note:_\n",
    "> * _For the DLR approach two different variants are considered: the basic one \"core\" and another one including own fixes. &rarr; Here, the added condition forbidding unbalanced load shifts prevents unexpected behaviour._"
   ]
  },
  {
   "cell_type": "markdown",
   "metadata": {},
   "source": [
    "### Define settings for efficiency analysis"
   ]
  },
  {
   "cell_type": "code",
   "execution_count": null,
   "metadata": {},
   "outputs": [],
   "source": [
    "case = 'dem_variation_eff'\n",
    "\n",
    "# Data preperation: manipulate demand data\n",
    "df_data = df_base.copy()\n",
    "demand = [100] * timesteps\n",
    "\n",
    "# demand changes\n",
    "demand[4:5] = [125]\n",
    "demand[5:6] = [75]\n",
    "\n",
    "demand[11:12] = [150]\n",
    "demand[13:14] = [50]\n",
    "    \n",
    "if timesteps > 24:\n",
    "    demand[26:27] = [25]\n",
    "    demand[29:30] = [175]\n",
    "\n",
    "    demand[36:37] = [0]\n",
    "    demand[40:41] = [200]\n",
    "\n",
    "    demand[43:44] = [0]\n",
    "    demand[45:46] = [200]\n",
    "\n",
    "df_data['demand_el'] = demand\n",
    "df_data['Cap_up'] = [100] * timesteps + df_data['Cap_up'] - df_data['demand_el']\n",
    "df_data['Cap_do'] = [100] * timesteps + df_data['demand_el'] - df_data['Cap_do']"
   ]
  },
  {
   "cell_type": "code",
   "execution_count": null,
   "metadata": {},
   "outputs": [],
   "source": [
    "plot_case(data=df_data, case='dem_variation')\n",
    "plot_case_residual(data=df_data, case='dem_variation')"
   ]
  },
  {
   "cell_type": "markdown",
   "metadata": {},
   "source": [
    "### Compare variations in efficiency"
   ]
  },
  {
   "cell_type": "code",
   "execution_count": null,
   "metadata": {},
   "outputs": [],
   "source": [
    "# Introduce a dict to store the results of every approach\n",
    "efficiencies = [1, 0.95, 0.8, 0.2]\n",
    "approach_dict = {}\n",
    "\n",
    "for eff in efficiencies:\n",
    "    \n",
    "    print(\"-----------------------------------------------------------------------------------------------\")\n",
    "    print(\"efficiency {:.2f}\".format(eff))\n",
    "    print(\"-----------------------------------------------------------------------------------------------\")\n",
    "    \n",
    "    eff_assigned = eff\n",
    "    for approach in approaches:\n",
    "        \n",
    "        approach_dict[(approach, eff)] = \\\n",
    "            start_model(df_data, timesteps=len(df_data), plot=True, save=save_figs, case=case,\n",
    "                        shift_interval=24, \n",
    "                        param_variations='_efficiency_{:f}'.format(eff),\n",
    "                        method='delay', delay_time=4, efficiency=eff_assigned, approach=approach,\n",
    "                        cost_dsm_up=cost_dsm_up, cost_dsm_down_shift=cost_dsm_down_shift, \n",
    "                        cost_dsm_down_shed=cost_dsm_down_shed,\n",
    "                        addition=False, recovery_time_shift=None, recovery_time_shed=4, figsize=(15,8), \n",
    "                        shed_eligibility=True, shed_time=4, n_yearLimit_shed=6,\n",
    "                        introduce_second_dsm_unit=introduce_second_dsm_unit,\n",
    "                        invest=invest,\n",
    "                        flex_share_down=flex_share_down,\n",
    "                        flex_share_up=flex_share_up,\n",
    "                        ep_costs=0.001,\n",
    "                        minimum=minimum,\n",
    "                        maximum=200,\n",
    "                        max_demand_inv=df_data['demand_el'].max(),\n",
    "                        max_capacity_down_inv=df_data['demand_el'].max(),\n",
    "                        max_capacity_up_inv=200-df_data['demand_el'].min())\n",
    "        \n",
    "        # variant with own fixes\n",
    "        if approach == \"DLR\":            \n",
    "            approach_dict[(approach+\"_fixes\", eff)] = \\\n",
    "                start_model(df_data, timesteps=len(df_data), plot=True, save=save_figs, case=case,\n",
    "                            shift_interval=24, \n",
    "                            param_variations='_fixes_efficiency_{:f}'.format(eff),\n",
    "                            method='delay', delay_time=4, efficiency=eff_assigned, approach=approach,\n",
    "                            cost_dsm_up=cost_dsm_up, cost_dsm_down_shift=cost_dsm_down_shift, \n",
    "                            cost_dsm_down_shed=cost_dsm_down_shed,\n",
    "                            addition=False, fixes=True,\n",
    "                            recovery_time_shift=None, recovery_time_shed=4, figsize=(15,8), \n",
    "                            shed_eligibility=True, shed_time=4, n_yearLimit_shed=6,\n",
    "                            introduce_second_dsm_unit=introduce_second_dsm_unit,\n",
    "                            invest=invest,\n",
    "                            flex_share_down=flex_share_down,\n",
    "                            flex_share_up=flex_share_up,\n",
    "                            ep_costs=0.001,\n",
    "                            minimum=minimum,\n",
    "                            maximum=200,\n",
    "                            max_demand_inv=df_data['demand_el'].max(),\n",
    "                            max_capacity_down_inv=df_data['demand_el'].max(),\n",
    "                            max_capacity_up_inv=200-df_data['demand_el'].min())          "
   ]
  },
  {
   "cell_type": "code",
   "execution_count": null,
   "metadata": {},
   "outputs": [],
   "source": [
    "show_results_table(approach_dict, save_results, MultiIndex=True,\n",
    "                  param_name=\"efficiency\")"
   ]
  },
  {
   "cell_type": "code",
   "execution_count": null,
   "metadata": {},
   "outputs": [],
   "source": [
    "results_dict = {}\n",
    "for k, v in approach_dict.items():\n",
    "    print(f\"approach: {k}\\t objective: {v[2]['objective']}\")\n",
    "    results_dict[k] = v[2]['objective']\n",
    "    \n",
    "results_df = pd.DataFrame.from_dict(results_dict, orient='index')"
   ]
  },
  {
   "cell_type": "code",
   "execution_count": null,
   "metadata": {},
   "outputs": [],
   "source": [
    "if invest:\n",
    "    for k, v in approach_dict.items():\n",
    "        print(f\"investment in DR for approach {k}: {v[3]} MW of installed capacity\")"
   ]
  },
  {
   "cell_type": "markdown",
   "metadata": {},
   "source": [
    "## Variations in recovery time / max. activations\n",
    "\n",
    "The approaches differ in the way, a recovery time resp. a limit for a given time frame is set. The following elements are used for depicting this.\n",
    "\n",
    "| approach | parameter used | description |\n",
    "| ---- | ---- | ---- |\n",
    "| DIW | recovery time | defines the time between the end of a shifting process and the begin of a subsequent one |\n",
    "| DLR | $n_{YearLimit}$ | defines the maximum amount of shifts within the optimization timeframe (one year) |\n",
    "\n",
    "The following anologies can be identified which are used to harmonize parameterization:\n",
    "\n",
    "$$ \\qquad n_{YearLimit} = \\frac{T} {t_{delay} + t_{recovery}}$$\n",
    "\n",
    "where\n",
    "\n",
    "$ T $ : overall optimization timeframe (in realistic examples usually one year)<br>\n",
    "\n",
    "> _Note:_<br>\n",
    "> _For the DLR approach two different variants are considered: the basic one \"core\" and another one including own fixes. &rarr; Here, the added conditions preventing shifts which cannot be balanced within the optimization timeframe prevent unexpected behaviour._"
   ]
  },
  {
   "cell_type": "markdown",
   "metadata": {},
   "source": [
    "### Basic variant\n",
    "Use the same generation and demand patterns as for most of the other parameter variations above (except for one extra shift at the end)."
   ]
  },
  {
   "cell_type": "code",
   "execution_count": null,
   "metadata": {},
   "outputs": [],
   "source": [
    "# Introduce a dict to store the results of every approach\n",
    "recovery_time = [None, 2, 4, 16, 44]\n",
    "approach_dict = {}\n",
    "\n",
    "for rt in recovery_time:\n",
    "    \n",
    "    if rt is not None:\n",
    "        param_variations='_recovery_time_{:d}'.format(rt)\n",
    "    else:\n",
    "        param_variations='_no_recovery_time'\n",
    "\n",
    "    print(\"-----------------------------------------------------------------------------------------------\")\n",
    "    if not rt is None:\n",
    "        print(\"recovery time {:d}; max. activations: {:.0f}\".format(rt, len(df_data)//(4+rt)))\n",
    "    else:\n",
    "        print(\"no limit on recovery time\")\n",
    "    print(\"-----------------------------------------------------------------------------------------------\")\n",
    "    for approach in approaches:            \n",
    "        \n",
    "        approach_dict[(approach, rt)] = \\\n",
    "            start_model(df_data, timesteps=len(df_data), plot=True, save=save_figs, case=case,\n",
    "                        shift_interval=24, \n",
    "                        param_variations=param_variations,\n",
    "                        method='delay', delay_time=4, efficiency=1, approach=approach,\n",
    "                        cost_dsm_up=cost_dsm_up, cost_dsm_down_shift=cost_dsm_down_shift, cost_dsm_down_shed=cost_dsm_down_shed,\n",
    "                        addition=False, recovery_time_shift=rt, recovery_time_shed=4, figsize=(15,8), \n",
    "                        shed_eligibility=True, shed_time=4, n_yearLimit_shed=6,\n",
    "                        ActivateYearLimit=True,\n",
    "                        introduce_second_dsm_unit=introduce_second_dsm_unit,\n",
    "                        invest=invest,\n",
    "                        flex_share_down=flex_share_down,\n",
    "                        flex_share_up=flex_share_up,\n",
    "                        ep_costs=0.001,\n",
    "                        minimum=minimum,\n",
    "                        maximum=200,\n",
    "                        max_demand_inv=df_data['demand_el'].max(),\n",
    "                        max_capacity_down_inv=df_data['demand_el'].max(),\n",
    "                        max_capacity_up_inv=200-df_data['demand_el'].min())"
   ]
  },
  {
   "cell_type": "code",
   "execution_count": null,
   "metadata": {},
   "outputs": [],
   "source": [
    "show_results_table(approach_dict, save_results, MultiIndex=True)"
   ]
  },
  {
   "cell_type": "code",
   "execution_count": null,
   "metadata": {},
   "outputs": [],
   "source": [
    "results_dict = {}\n",
    "for k, v in approach_dict.items():\n",
    "    print(f\"approach: {k}\\t objective: {v[2]['objective']}\")\n",
    "    results_dict[k] = v[2]['objective']\n",
    "    \n",
    "results_df = pd.DataFrame.from_dict(results_dict, orient='index')"
   ]
  },
  {
   "cell_type": "code",
   "execution_count": null,
   "metadata": {},
   "outputs": [],
   "source": [
    "if invest:\n",
    "    for k, v in approach_dict.items():\n",
    "        print(f\"investment in DR for approach {k}: {v[3]} MW of installed capacity\")"
   ]
  },
  {
   "cell_type": "markdown",
   "metadata": {},
   "source": [
    "### Additional variant\n",
    "Show dependency of recovery time on consumption pattern for DIW and DLR approach:\n",
    "* _DIW approach_: Since recovery time constraint is introduced only for upshifts and cap_up, it restricts load shifting further if initial load increases are needed to balance (demand) variations.\n",
    "* _DLR approach_: Effectively an energy limit is posed for the initial shifts. If all initial shifts are downshifts, the energy limit should become binding.\n",
    "* This can be identified by adapting case 2b from above in the following way:\n",
    "    1. The order of the demand variation for the third and fourth use case of load shifting in case 2b is switched, i.e. an initial load decrease is now needed.\n",
    "    2. Change the amplitudes: Slightly increase it for the first shift cycle and change the amplitudes for second and fourth shifting cycle."
   ]
  },
  {
   "cell_type": "code",
   "execution_count": null,
   "metadata": {},
   "outputs": [],
   "source": [
    "case = 'dem_variation_switched'\n",
    "\n",
    "# Data preperation: manipulate demand data\n",
    "df_data = df_base.copy()\n",
    "demand = [100] * timesteps\n",
    "\n",
    "# demand changes\n",
    "demand[4:5] = [150]\n",
    "demand[5:6] = [50]\n",
    "\n",
    "demand[11:12] = [200]\n",
    "demand[13:14] = [0]\n",
    "\n",
    "#demand[17:18] = [200]\n",
    "#demand[20:21] = [0]\n",
    "\n",
    "if timesteps > 24:\n",
    "    demand[26:27] = [150]\n",
    "    demand[29:30] = [50]\n",
    "\n",
    "    #demand[31:32] = [150]\n",
    "    #demand[35:36] = [50]    \n",
    "    \n",
    "    demand[36:37] = [175]\n",
    "    demand[40:41] = [25]\n",
    "\n",
    "df_data['demand_el'] = demand\n",
    "df_data['Cap_up'] = [100] * timesteps + df_data['Cap_up'] - df_data['demand_el']\n",
    "df_data['Cap_do'] = [100] * timesteps + df_data['demand_el'] - df_data['Cap_do']"
   ]
  },
  {
   "cell_type": "code",
   "execution_count": null,
   "metadata": {},
   "outputs": [],
   "source": [
    "plot_case(data=df_data, case='dem_variation_switched')\n",
    "plot_case_residual(data=df_data, case='dem_variation_switched')"
   ]
  },
  {
   "cell_type": "code",
   "execution_count": null,
   "metadata": {},
   "outputs": [],
   "source": [
    "# Introduce a dict to store the results of every approach\n",
    "recovery_time = [None, 2, 4, 16, 44]\n",
    "approach_dict = {}\n",
    "\n",
    "for rt in recovery_time:\n",
    "    \n",
    "    if rt is not None:\n",
    "        param_variations='_recovery_time_{:d}'.format(rt)\n",
    "        param_variations_fixes='_fixes_recovery_time_{:d}'.format(rt)\n",
    "    else:\n",
    "        param_variations='_no_recovery_time'\n",
    "        param_variations_fixes='_fixes_no_recovery_time'\n",
    "\n",
    "    print(\"-----------------------------------------------------------------------------------------------\")\n",
    "    if not rt is None:\n",
    "        print(\"recovery time {:d}; max. activations: {:.0f}; cumulative shift time {:.0f}\".format(rt, \n",
    "            len(df_data)//(4+rt), len(df_data)//(4+rt) * 2))\n",
    "    else:\n",
    "        print(\"no limit on recovery time\")\n",
    "    print(\"-----------------------------------------------------------------------------------------------\")\n",
    "    for approach in approaches:            \n",
    "        \n",
    "        approach_dict[(approach, rt)] = \\\n",
    "            start_model(df_data, timesteps=len(df_data), plot=True, save=save_figs, case=case,\n",
    "                        shift_interval=24, \n",
    "                        param_variations=param_variations,\n",
    "                        method='delay', delay_time=4, efficiency=1, approach=approach,\n",
    "                        cost_dsm_up=cost_dsm_up, cost_dsm_down_shift=cost_dsm_down_shift, \n",
    "                        cost_dsm_down_shed=cost_dsm_down_shed,\n",
    "                        addition=False, recovery_time_shift=rt, recovery_time_shed=4, figsize=(15,8), \n",
    "                        shed_eligibility=True, shed_time=4, n_yearLimit_shed=6,\n",
    "                        ActivateYearLimit=True,\n",
    "                        introduce_second_dsm_unit=introduce_second_dsm_unit,\n",
    "                        invest=invest,\n",
    "                        flex_share_down=flex_share_down,\n",
    "                        flex_share_up=flex_share_up,\n",
    "                        ep_costs=0.001,\n",
    "                        minimum=minimum,\n",
    "                        maximum=200,\n",
    "                        max_demand_inv=df_data['demand_el'].max(),\n",
    "                        max_capacity_down_inv=df_data['demand_el'].max(),\n",
    "                        max_capacity_up_inv=200-df_data['demand_el'].min())\n",
    "        \n",
    "        # variant with own fixes\n",
    "        if approach == \"DLR\":            \n",
    "            approach_dict[(approach+\"_fixes\", rt)] = \\\n",
    "                start_model(df_data, timesteps=len(df_data), plot=True, save=save_figs, case=case,\n",
    "                            shift_interval=24, \n",
    "                            param_variations=param_variations_fixes,\n",
    "                            method='delay', delay_time=4, efficiency=1, approach=approach,\n",
    "                            cost_dsm_up=cost_dsm_up, cost_dsm_down_shift=cost_dsm_down_shift, \n",
    "                            cost_dsm_down_shed=cost_dsm_down_shed,\n",
    "                            addition=False, fixes=True,\n",
    "                            recovery_time_shift=rt, recovery_time_shed=4, figsize=(15,8), \n",
    "                            shed_eligibility=True, shed_time=4, n_yearLimit_shed=6,\n",
    "                            ActivateYearLimit=True,\n",
    "                            introduce_second_dsm_unit=introduce_second_dsm_unit,\n",
    "                            invest=invest,\n",
    "                            flex_share_down=flex_share_down,\n",
    "                            flex_share_up=flex_share_up,\n",
    "                            ep_costs=0.001,\n",
    "                            minimum=minimum,\n",
    "                            maximum=200,\n",
    "                            max_demand_inv=df_data['demand_el'].max(),\n",
    "                            max_capacity_down_inv=df_data['demand_el'].max(),\n",
    "                            max_capacity_up_inv=200-df_data['demand_el'].min())"
   ]
  },
  {
   "cell_type": "code",
   "execution_count": null,
   "metadata": {},
   "outputs": [],
   "source": [
    "show_results_table(approach_dict, save_results, MultiIndex=True)"
   ]
  },
  {
   "cell_type": "code",
   "execution_count": null,
   "metadata": {},
   "outputs": [],
   "source": [
    "results_dict = {}\n",
    "for k, v in approach_dict.items():\n",
    "    print(f\"approach: {k}\\t objective: {v[2]['objective']}\")\n",
    "    results_dict[k] = v[2]['objective']\n",
    "    \n",
    "results_df = pd.DataFrame.from_dict(results_dict, orient='index')"
   ]
  },
  {
   "cell_type": "code",
   "execution_count": null,
   "metadata": {},
   "outputs": [],
   "source": [
    "if invest:\n",
    "    for k, v in approach_dict.items():\n",
    "        print(f\"investment in DR for approach {k}: {v[3]} MW of installed capacity\")"
   ]
  },
  {
   "cell_type": "markdown",
   "metadata": {},
   "source": [
    "### Compare DIW and DLR approach separately (recovery_time and t_dayLimit)\n",
    "Dependent on how parameterization of the parameters recovery_time from DIW and t_dayLimit from DLR is set, they can be used to model more or less the same thing, i.e. and energy limit imposed over a certain (smaller) timeframe. Hence, an additional comparison is made in the following where only the two approaches are compared to each other."
   ]
  },
  {
   "cell_type": "code",
   "execution_count": null,
   "metadata": {},
   "outputs": [],
   "source": [
    "# Introduce a dict to store the results of every approach\n",
    "recovery_time = [2, 4, 16, 44]\n",
    "approach_dict = {}\n",
    "\n",
    "for rt in recovery_time:\n",
    "    \n",
    "    if rt is not None:\n",
    "        param_variations='_recovery_time_{:d}'.format(rt)\n",
    "    else:\n",
    "        param_variations='_no_recovery_time'\n",
    "\n",
    "    print(\"-----------------------------------------------------------------------------------------------\")\n",
    "    if not rt is None:\n",
    "        print(\"recovery time resp. t_dayLimit {:d}\".format(rt))\n",
    "    else:\n",
    "        print(\"no limit on recovery time resp. t_dayLimit\")\n",
    "    print(\"-----------------------------------------------------------------------------------------------\")\n",
    "    for approach in approaches:\n",
    "        \n",
    "        if approach in [\"DIW\", \"DLR\"]:\n",
    "        \n",
    "            approach_dict[(approach, rt)] = \\\n",
    "                start_model(df_data, timesteps=len(df_data), plot=True, save=save_figs, case=case,\n",
    "                            shift_interval=24, \n",
    "                            param_variations=param_variations,\n",
    "                            method='delay', delay_time=4, efficiency=1, approach=approach,\n",
    "                            cost_dsm_up=cost_dsm_up, cost_dsm_down_shift=cost_dsm_down_shift, \n",
    "                            cost_dsm_down_shed=cost_dsm_down_shed,\n",
    "                            addition=False, fixes=True,\n",
    "                            recovery_time_shift=rt, recovery_time_shed=4, figsize=(15,8), \n",
    "                            shed_eligibility=True, shed_time=4, n_yearLimit_shed=6,\n",
    "                            ActivateYearLimit=False, ActivateDayLimit=True,\n",
    "                            t_dayLimit = rt, \n",
    "                            introduce_second_dsm_unit=introduce_second_dsm_unit,\n",
    "                            invest=invest,\n",
    "                            flex_share_down=flex_share_down,\n",
    "                            flex_share_up=flex_share_up,\n",
    "                            ep_costs=0.001,\n",
    "                            minimum=minimum,\n",
    "                            maximum=200,\n",
    "                            max_demand_inv=df_data['demand_el'].max(),\n",
    "                            max_capacity_down_inv=df_data['demand_el'].max(),\n",
    "                            max_capacity_up_inv=200-df_data['demand_el'].min())"
   ]
  },
  {
   "cell_type": "code",
   "execution_count": null,
   "metadata": {},
   "outputs": [],
   "source": [
    "show_results_table(approach_dict, save_results, MultiIndex=True,\n",
    "                  param_name=\"recovery_time\")"
   ]
  },
  {
   "cell_type": "code",
   "execution_count": null,
   "metadata": {},
   "outputs": [],
   "source": [
    "results_dict = {}\n",
    "for k, v in approach_dict.items():\n",
    "    print(f\"approach: {k}\\t objective: {v[2]['objective']}\")\n",
    "    results_dict[k] = v[2]['objective']\n",
    "    \n",
    "results_df = pd.DataFrame.from_dict(results_dict, orient='index')"
   ]
  },
  {
   "cell_type": "code",
   "execution_count": null,
   "metadata": {},
   "outputs": [],
   "source": [
    "if invest:\n",
    "    for k, v in approach_dict.items():\n",
    "        print(f\"investment in DR for approach {k}: {v[3]} MW of installed capacity\")"
   ]
  },
  {
   "cell_type": "markdown",
   "metadata": {},
   "source": [
    "## Variations in amount of daily activations"
   ]
  },
  {
   "cell_type": "markdown",
   "metadata": {},
   "source": [
    "### Define settings for daily constraint analysis"
   ]
  },
  {
   "cell_type": "code",
   "execution_count": null,
   "metadata": {},
   "outputs": [],
   "source": [
    "case = 'dem_variation_daily'\n",
    "\n",
    "# Data preperation: manipulate demand data\n",
    "df_data = df_base.copy()\n",
    "demand = [100] * timesteps\n",
    "\n",
    "# demand changes\n",
    "demand[4:5] = [175]\n",
    "demand[5:6] = [25]\n",
    "\n",
    "demand[11:12] = [200]\n",
    "demand[13:14] = [0]\n",
    "\n",
    "demand[17:18] = [200]\n",
    "demand[19:20] = [0]\n",
    "\n",
    "if timesteps > 24:\n",
    "    demand[26:27] = [25]\n",
    "    demand[29:30] = [175]\n",
    "\n",
    "    demand[36:37] = [0]\n",
    "    demand[40:41] = [200]\n",
    "\n",
    "df_data['demand_el'] = demand\n",
    "df_data['Cap_up'] = [100] * timesteps + df_data['Cap_up'] - df_data['demand_el']\n",
    "df_data['Cap_do'] = [100] * timesteps + df_data['demand_el'] - df_data['Cap_do']"
   ]
  },
  {
   "cell_type": "code",
   "execution_count": null,
   "metadata": {},
   "outputs": [],
   "source": [
    "plot_case(data=df_data, case=case)\n",
    "plot_case_residual(data=df_data, case=case)"
   ]
  },
  {
   "cell_type": "markdown",
   "metadata": {},
   "source": [
    "### Compare variations in amount of daily activations\n",
    "\n",
    "For the DLR approach from Gils (2015) a daily limit is optional.\n",
    "\n",
    "The following elements are used for depicting this.\n",
    "\n",
    "| approach | parameter used | description |\n",
    "| ---- | ---- | ---- |\n",
    "| DLR | $t_{DayLimit}$ | defines the maximum time for up- resp. downshifts, i.e. the maximum amount of subsequent hours for up- resp. downshifts (not including the current hour) |\n",
    "\n",
    "The following anology can be identified which is used to harmonize parameterization:\n",
    "\n",
    "$$ \\qquad t_{DayLimit} =  \\frac{24}{f_d}-1$$"
   ]
  },
  {
   "cell_type": "code",
   "execution_count": null,
   "metadata": {},
   "outputs": [],
   "source": [
    "# Introduce a dict to store the results of every approach\n",
    "day_limit = [24, 6, 2, 1]\n",
    "approach_dict = {}\n",
    "\n",
    "for dl in day_limit:\n",
    "    \n",
    "    param_variations='_day_limit_{:d}'.format(dl)\n",
    "\n",
    "    print(\"-----------------------------------------------------------------------------------------------\")\n",
    "    print(\"day limit {:d}; t_DayLimit: {:d}\".format(dl, int(24/dl-1)))\n",
    "    print(\"-----------------------------------------------------------------------------------------------\")\n",
    "    for approach in approaches:\n",
    "        if approach == \"DLR\":\n",
    "        \n",
    "            approach_dict[(approach, dl)] = \\\n",
    "                start_model(df_data, timesteps=len(df_data), plot=True, save=save_figs, case=case,\n",
    "                            shift_interval=24, \n",
    "                            param_variations=param_variations,\n",
    "                            method='delay', delay_time=4, efficiency=1, approach=approach,\n",
    "                            cost_dsm_up=cost_dsm_up, cost_dsm_down_shift=cost_dsm_down_shift, \n",
    "                            cost_dsm_down_shed=cost_dsm_down_shed,\n",
    "                            addition=False, fixes=True,\n",
    "                            recovery_time_shift=None, recovery_time_shed=4, figsize=(15,8), \n",
    "                            shed_eligibility=True, shed_time=4, n_yearLimit_shed=6,\n",
    "                            ActivateDayLimit=True, daily_frequency_shift=dl,\n",
    "                            introduce_second_dsm_unit=introduce_second_dsm_unit,\n",
    "                            invest=invest,\n",
    "                            flex_share_down=flex_share_down,\n",
    "                            flex_share_up=flex_share_up,\n",
    "                            ep_costs=0.001,\n",
    "                            minimum=minimum,\n",
    "                            maximum=200,\n",
    "                            max_demand_inv=df_data['demand_el'].max(),\n",
    "                            max_capacity_down_inv=df_data['demand_el'].max(),\n",
    "                            max_capacity_up_inv=200-df_data['demand_el'].min())"
   ]
  },
  {
   "cell_type": "code",
   "execution_count": null,
   "metadata": {},
   "outputs": [],
   "source": [
    "show_results_table(approach_dict, save_results, MultiIndex=True)"
   ]
  },
  {
   "cell_type": "code",
   "execution_count": null,
   "metadata": {},
   "outputs": [],
   "source": [
    "results_dict = {}\n",
    "for k, v in approach_dict.items():\n",
    "    print(f\"approach: {k}\\t objective: {v[2]['objective']}\")\n",
    "    results_dict[k] = v[2]['objective']\n",
    "    \n",
    "results_df = pd.DataFrame.from_dict(results_dict, orient='index')"
   ]
  },
  {
   "cell_type": "code",
   "execution_count": null,
   "metadata": {},
   "outputs": [],
   "source": [
    "if invest:\n",
    "    for k, v in approach_dict.items():\n",
    "        print(f\"investment in DR for approach {k}: {v[3]} MW of installed capacity\")"
   ]
  },
  {
   "cell_type": "markdown",
   "metadata": {},
   "source": [
    "## Activation of optional constraint corresponding to Eq. 10 from Zerrahn and Schill (2015a)\n",
    "* Set parameter addition to True. Contraint limiting overall amount of DSM capacity (sum in both directions) is introduced.\n",
    "* delay_time is set to three. Otherwise there would be no simulatneous activation in both directions for the example load and generation pattern (case 2b)."
   ]
  },
  {
   "cell_type": "markdown",
   "metadata": {},
   "source": [
    "### Define settings for analysis of optional overall capacity limit constraint"
   ]
  },
  {
   "cell_type": "code",
   "execution_count": null,
   "metadata": {},
   "outputs": [],
   "source": [
    "case = 'dem_variation_add'\n",
    "\n",
    "# Data preperation: manipulate demand data\n",
    "df_data = df_base.copy()\n",
    "demand = [100] * timesteps\n",
    "\n",
    "# demand changes\n",
    "demand[5:6] = [125]\n",
    "demand[6:7] = [75]\n",
    "\n",
    "demand[13:14] = [150]\n",
    "demand[15:16] = [50]\n",
    "\n",
    "if timesteps > 24:\n",
    "    demand[25:26] = [25]\n",
    "    demand[28:29] = [175]\n",
    "\n",
    "    demand[36:37] = [0]\n",
    "    demand[40:41] = [200]\n",
    "\n",
    "df_data['demand_el'] = demand\n",
    "df_data['Cap_up'] = [100] * timesteps + df_data['Cap_up'] - df_data['demand_el']\n",
    "df_data['Cap_do'] = [100] * timesteps + df_data['demand_el'] - df_data['Cap_do']"
   ]
  },
  {
   "cell_type": "code",
   "execution_count": null,
   "metadata": {},
   "outputs": [],
   "source": [
    "plot_case(data=df_data, case=case)\n",
    "plot_case_residual(data=df_data, case=case)"
   ]
  },
  {
   "cell_type": "markdown",
   "metadata": {},
   "source": [
    "### Analyze overall capacity limit constraint"
   ]
  },
  {
   "cell_type": "code",
   "execution_count": null,
   "metadata": {},
   "outputs": [],
   "source": [
    "# Introduce a dict to store the results of every approach\n",
    "additions = [False, True]\n",
    "approach_dict = {}\n",
    "\n",
    "for add in additions:\n",
    "    print(\"-----------------------------------------------------------------------------------------------\")\n",
    "    print(\"constrain overall DSM capacity {0}\".format(addition))\n",
    "    print(\"-----------------------------------------------------------------------------------------------\")\n",
    "    for approach in approaches:\n",
    "\n",
    "        approach_dict[(approach, add)] = \\\n",
    "            start_model(df_data, timesteps=len(df_data), plot=True, save=save_figs, case=case,\n",
    "                        shift_interval=24, \n",
    "                        param_variations='_addition_{0}'.format(addition),\n",
    "                        method='delay', delay_time=3, efficiency=1, approach=approach,\n",
    "                        cost_dsm_up=cost_dsm_up, cost_dsm_down_shift=cost_dsm_down_shift, cost_dsm_down_shed=cost_dsm_down_shed,\n",
    "                        addition=add, recovery_time_shift=None, recovery_time_shed=4, figsize=(15,8),\n",
    "                        fixes=True,\n",
    "                        shed_eligibility=True, shed_time=4, n_yearLimit_shed=6,\n",
    "                        introduce_second_dsm_unit=introduce_second_dsm_unit,\n",
    "                        invest=invest,\n",
    "                        flex_share_down=flex_share_down,\n",
    "                        flex_share_up=flex_share_up,\n",
    "                        ep_costs=0.001,\n",
    "                        minimum=minimum,\n",
    "                        maximum=200,\n",
    "                        max_demand_inv=df_data['demand_el'].max(),\n",
    "                        max_capacity_down_inv=df_data['demand_el'].max(),\n",
    "                        max_capacity_up_inv=200-df_data['demand_el'].min())"
   ]
  },
  {
   "cell_type": "code",
   "execution_count": null,
   "metadata": {},
   "outputs": [],
   "source": [
    "show_results_table(approach_dict, save_results, MultiIndex=True,\n",
    "                  param_name=\"add_constr\")"
   ]
  },
  {
   "cell_type": "code",
   "execution_count": null,
   "metadata": {},
   "outputs": [],
   "source": [
    "results_dict = {}\n",
    "for k, v in approach_dict.items():\n",
    "    print(f\"approach: {k}\\t objective: {v[2]['objective']}\")\n",
    "    results_dict[k] = v[2]['objective']\n",
    "    \n",
    "results_df = pd.DataFrame.from_dict(results_dict, orient='index')"
   ]
  },
  {
   "cell_type": "code",
   "execution_count": null,
   "metadata": {},
   "outputs": [],
   "source": [
    "if invest:\n",
    "    for k, v in approach_dict.items():\n",
    "        print(f\"investment in DR for approach {k}: {v[3]} MW of installed capacity\")"
   ]
  },
  {
   "cell_type": "markdown",
   "metadata": {},
   "source": [
    "## Variations of parameters for load shedding"
   ]
  },
  {
   "cell_type": "code",
   "execution_count": null,
   "metadata": {},
   "outputs": [],
   "source": [
    "case = 'param_variation_shed'\n",
    "\n",
    "# Data preperation: manipulate demand data\n",
    "df_data = df_base.copy()\n",
    "demand = [100] * timesteps\n",
    "\n",
    "# demand changes\n",
    "demand[10:24] = [200] * 14\n",
    "\n",
    "df_data['demand_el'] = demand\n",
    "df_data['Cap_up'] = [100] * timesteps + df_data['Cap_up'] - df_data['demand_el']\n",
    "df_data['Cap_do'] = [100] * timesteps + df_data['demand_el'] - df_data['Cap_do']"
   ]
  },
  {
   "cell_type": "code",
   "execution_count": null,
   "metadata": {},
   "outputs": [],
   "source": [
    "plot_case(data=df_data, case=case)\n",
    "plot_case_residual(data=df_data, case=case)"
   ]
  },
  {
   "cell_type": "markdown",
   "metadata": {},
   "source": [
    "### Variations in shed time"
   ]
  },
  {
   "cell_type": "code",
   "execution_count": null,
   "metadata": {},
   "outputs": [],
   "source": [
    "# Introduce a dict to store the results of every approach\n",
    "shed_times = [1, 2, 3, 4, 5]\n",
    "approach_dict = {}\n",
    "\n",
    "for st in shed_times:\n",
    "    print(\"-----------------------------------------------------------------------------------------------\")\n",
    "    print(\"shed time {:d}\".format(st))\n",
    "    print(\"-----------------------------------------------------------------------------------------------\")\n",
    "    for approach in approaches:\n",
    "\n",
    "        approach_dict[(approach, st)] = start_model(df_data, timesteps=len(df_data), plot=True, save=save_figs, case=case, \n",
    "                                          shift_interval=24, delay_time=4, efficiency=1, approach=approach,\n",
    "                                          cost_dsm_up=cost_dsm_up, cost_dsm_down_shift=cost_dsm_down_shift, \n",
    "                                          cost_dsm_down_shed=0.1,\n",
    "                                          addition=False, recovery_time_shift=None, recovery_time_shed=4, \n",
    "                                          figsize=(15,8), \n",
    "                                          fixes=True,\n",
    "                                          shift_eligibility=True,\n",
    "                                          shed_eligibility=True, shed_time=st, n_yearLimit_shed=6,\n",
    "                                          introduce_second_dsm_unit=introduce_second_dsm_unit,\n",
    "                                          invest=invest,\n",
    "                                          flex_share_down=flex_share_down,\n",
    "                                          flex_share_up=flex_share_up,\n",
    "                                          existing=existing,\n",
    "                                          ep_costs=0.001,\n",
    "                                          minimum=minimum,\n",
    "                                          maximum=200,\n",
    "                                          max_demand_inv=df_data['demand_el'].max(),\n",
    "                                          max_capacity_down_inv=df_data['demand_el'].max(),\n",
    "                                          max_capacity_up_inv=200-df_data['demand_el'].min()\n",
    "                                         )"
   ]
  },
  {
   "cell_type": "code",
   "execution_count": null,
   "metadata": {},
   "outputs": [],
   "source": [
    "show_results_table(approach_dict, save_results, MultiIndex=True,\n",
    "                  param_name=\"delay_time\")"
   ]
  },
  {
   "cell_type": "code",
   "execution_count": null,
   "metadata": {},
   "outputs": [],
   "source": [
    "results_dict = {}\n",
    "for k, v in approach_dict.items():\n",
    "    print(f\"approach: {k}\\t objective: {v[2]['objective']}\")\n",
    "    results_dict[k] = v[2]['objective']\n",
    "    \n",
    "results_df = pd.DataFrame.from_dict(results_dict, orient='index')"
   ]
  },
  {
   "cell_type": "code",
   "execution_count": null,
   "metadata": {},
   "outputs": [],
   "source": [
    "if invest:\n",
    "    for k, v in approach_dict.items():\n",
    "        print(f\"investment in DR for approach {k}: {v[3]} MW of installed capacity\")"
   ]
  },
  {
   "cell_type": "markdown",
   "metadata": {},
   "source": [
    "### Variations in recovery time for shedding / amount of activations\n",
    "Interrelation is the same as for maximum amounts of activations and recovery time for shifting"
   ]
  },
  {
   "cell_type": "code",
   "execution_count": null,
   "metadata": {},
   "outputs": [],
   "source": [
    "# Introduce a dict to store the results of every approach\n",
    "recovery_time = [1, 2, 4, 16, 44]\n",
    "approach_dict = {}\n",
    "\n",
    "for rt in recovery_time:\n",
    "    \n",
    "    if rt is not None:\n",
    "        param_variations='_recovery_time_{:d}'.format(rt)\n",
    "    else:\n",
    "        param_variations='_no_recovery_time'\n",
    "\n",
    "    print(\"-----------------------------------------------------------------------------------------------\")\n",
    "    if not rt is None:\n",
    "        print(\"recovery time {:d}; max. activations: {:.0f}; cumulative shift time {:.0f}\".format(rt, \n",
    "            len(df_data)//(4+rt), len(df_data)//(4+rt) * 2))\n",
    "    else:\n",
    "        print(\"no limit on recovery time\")\n",
    "    print(\"-----------------------------------------------------------------------------------------------\")\n",
    "    for approach in approaches:            \n",
    "        \n",
    "        approach_dict[(approach, rt)] = start_model(df_data, timesteps=len(df_data), plot=True, save=save_figs, case=case, \n",
    "                                          shift_interval=24, delay_time=4, efficiency=1, approach=approach,\n",
    "                                          cost_dsm_up=cost_dsm_up, cost_dsm_down_shift=cost_dsm_down_shift, \n",
    "                                          cost_dsm_down_shed=0.1,\n",
    "                                          addition=False, recovery_time_shift=None, recovery_time_shed=rt, \n",
    "                                          figsize=(15,8), \n",
    "                                          fixes=True,\n",
    "                                          shift_eligibility=True,\n",
    "                                          shed_eligibility=True, shed_time=4,\n",
    "                                          introduce_second_dsm_unit=introduce_second_dsm_unit,\n",
    "                                          invest=invest,\n",
    "                                          flex_share_down=flex_share_down,\n",
    "                                          flex_share_up=flex_share_up,\n",
    "                                          existing=existing,\n",
    "                                          ep_costs=0.001,\n",
    "                                          minimum=minimum,\n",
    "                                          maximum=200,\n",
    "                                          max_demand_inv=df_data['demand_el'].max(),\n",
    "                                          max_capacity_down_inv=df_data['demand_el'].max(),\n",
    "                                          max_capacity_up_inv=200-df_data['demand_el'].min()\n",
    "                                         )"
   ]
  },
  {
   "cell_type": "code",
   "execution_count": null,
   "metadata": {},
   "outputs": [],
   "source": [
    "show_results_table(approach_dict, save_results, MultiIndex=True,\n",
    "                  param_name=\"delay_time\")"
   ]
  },
  {
   "cell_type": "code",
   "execution_count": null,
   "metadata": {},
   "outputs": [],
   "source": [
    "results_dict = {}\n",
    "for k, v in approach_dict.items():\n",
    "    print(f\"approach: {k}\\t objective: {v[2]['objective']}\")\n",
    "    results_dict[k] = v[2]['objective']\n",
    "    \n",
    "results_df = pd.DataFrame.from_dict(results_dict, orient='index')"
   ]
  },
  {
   "cell_type": "code",
   "execution_count": null,
   "metadata": {},
   "outputs": [],
   "source": [
    "if invest:\n",
    "    for k, v in approach_dict.items():\n",
    "        print(f\"investment in DR for approach {k}: {v[3]} MW of installed capacity\")"
   ]
  },
  {
   "cell_type": "markdown",
   "metadata": {},
   "source": [
    "### Variations in amount of activations (DLR only)"
   ]
  },
  {
   "cell_type": "code",
   "execution_count": null,
   "metadata": {},
   "outputs": [],
   "source": [
    "# Introduce a dict to store the results of every approach\n",
    "amount = [6, 4, 3, 2, 1]\n",
    "approach_dict = {}\n",
    "\n",
    "for a in amount:\n",
    "    \n",
    "    param_variations='_amount_{:d}'.format(rt)\n",
    "\n",
    "\n",
    "    print(\"-----------------------------------------------------------------------------------------------\")\n",
    "    print(\"max. activations: {:.0f}\".format(a))\n",
    "    print(\"-----------------------------------------------------------------------------------------------\")\n",
    "    for approach in approaches:\n",
    "        \n",
    "        if approach == \"DLR\":\n",
    "        \n",
    "            approach_dict[(approach, rt)] = start_model(df_data, timesteps=len(df_data), plot=True, save=save_figs, case=case, \n",
    "                                              shift_interval=24, delay_time=4, efficiency=1, approach=approach,\n",
    "                                              cost_dsm_up=cost_dsm_up, cost_dsm_down_shift=cost_dsm_down_shift, \n",
    "                                              cost_dsm_down_shed=0.1,\n",
    "                                              addition=False, recovery_time_shift=None, recovery_time_shed=4, \n",
    "                                              figsize=(15,8), \n",
    "                                              fixes=True,\n",
    "                                              shift_eligibility=True,\n",
    "                                              shed_eligibility=True, shed_time=4, n_yearLimit_shed=a,\n",
    "                                              introduce_second_dsm_unit=introduce_second_dsm_unit,\n",
    "                                              invest=invest,\n",
    "                                              flex_share_down=flex_share_down,\n",
    "                                              flex_share_up=flex_share_up,\n",
    "                                              existing=existing,\n",
    "                                              ep_costs=0.001,\n",
    "                                              minimum=minimum,\n",
    "                                              maximum=200,\n",
    "                                              max_demand_inv=df_data['demand_el'].max(),\n",
    "                                              max_capacity_down_inv=df_data['demand_el'].max(),\n",
    "                                              max_capacity_up_inv=200-df_data['demand_el'].min()\n",
    "                                             )"
   ]
  },
  {
   "cell_type": "code",
   "execution_count": null,
   "metadata": {},
   "outputs": [],
   "source": [
    "show_results_table(approach_dict, save_results, MultiIndex=True,\n",
    "                  param_name=\"delay_time\")"
   ]
  },
  {
   "cell_type": "code",
   "execution_count": null,
   "metadata": {},
   "outputs": [],
   "source": [
    "results_dict = {}\n",
    "for k, v in approach_dict.items():\n",
    "    print(f\"approach: {k}\\t objective: {v[2]['objective']}\")\n",
    "    results_dict[k] = v[2]['objective']\n",
    "    \n",
    "results_df = pd.DataFrame.from_dict(results_dict, orient='index')"
   ]
  },
  {
   "cell_type": "code",
   "execution_count": null,
   "metadata": {},
   "outputs": [],
   "source": [
    "if invest:\n",
    "    for k, v in approach_dict.items():\n",
    "        print(f\"investment in DR for approach {k}: {v[3]} MW of installed capacity\")"
   ]
  },
  {
   "cell_type": "markdown",
   "metadata": {},
   "source": [
    "# Bibliography"
   ]
  },
  {
   "cell_type": "markdown",
   "metadata": {},
   "source": [
    "* Gils, Hans Christian (2015): Balancing of Intermittent Renewable Power Generation by Demand Response and Thermal Energy Storage, Stuttgart, http://dx.doi.org/10.18419/opus-6888, accessed 16.08.2019, pp. 67-70.\n",
    "* Kochems, Johannes (2020): Demand response potentials for Germany: potential clustering and comparison of modeling approaches, presentation at the INREC conference 2020, https://github.com/jokochems/DR_modeling_oemof/blob/master/Kochems_Demand_Response_INREC.pdf, accessed 20.03.2021.\n",
    "* Zerrahn, Alexander and Schill, Wolf-Peter (2015a): On the representation of demand-side management in power system models, in: Energy (84), pp. 840-845, [10.1016/j.energy.2015.03.037](http://dx.doi.org/10.1016/j.energy.2015.03.037), accessed 16.08.2019, pp. 842-843.\n",
    "* Zerrahn, Alexander and Schill, Wolf-Peter (2015b): A Greenfield Model to Evaluate Long-Run Power Storage Requirements for High Shares of Renewables, DIW Discussion Papers, No. 1457."
   ]
  },
  {
   "cell_type": "code",
   "execution_count": null,
   "metadata": {},
   "outputs": [],
   "source": []
  }
 ],
 "metadata": {
  "kernelspec": {
   "display_name": "Python 3",
   "language": "python",
   "name": "python3"
  },
  "language_info": {
   "codemirror_mode": {
    "name": "ipython",
    "version": 3
   },
   "file_extension": ".py",
   "mimetype": "text/x-python",
   "name": "python",
   "nbconvert_exporter": "python",
   "pygments_lexer": "ipython3",
   "version": "3.8.5"
  },
  "pycharm": {
   "stem_cell": {
    "cell_type": "raw",
    "metadata": {
     "collapsed": false
    },
    "source": []
   }
  },
  "toc": {
   "base_numbering": 1,
   "nav_menu": {},
   "number_sections": true,
   "sideBar": true,
   "skip_h1_title": false,
   "title_cell": "Table of Contents",
   "title_sidebar": "Contents",
   "toc_cell": false,
   "toc_position": {
    "height": "calc(100% - 180px)",
    "left": "10px",
    "top": "150px",
    "width": "571px"
   },
   "toc_section_display": true,
   "toc_window_display": true
  },
  "toc-autonumbering": true,
  "varInspector": {
   "cols": {
    "lenName": 16,
    "lenType": 16,
    "lenVar": 40
   },
   "kernels_config": {
    "python": {
     "delete_cmd_postfix": "",
     "delete_cmd_prefix": "del ",
     "library": "var_list.py",
     "varRefreshCmd": "print(var_dic_list())"
    },
    "r": {
     "delete_cmd_postfix": ") ",
     "delete_cmd_prefix": "rm(",
     "library": "var_list.r",
     "varRefreshCmd": "cat(var_dic_list()) "
    }
   },
   "types_to_exclude": [
    "module",
    "function",
    "builtin_function_or_method",
    "instance",
    "_Feature"
   ],
   "window_display": false
  }
 },
 "nbformat": 4,
 "nbformat_minor": 4
}
